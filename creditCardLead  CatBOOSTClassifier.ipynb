{
 "cells": [
  {
   "cell_type": "markdown",
   "metadata": {},
   "source": [
    "# Problem Statement ## Credit Card Lead Prediction"
   ]
  },
  {
   "cell_type": "markdown",
   "metadata": {},
   "source": [
    "Happy Customer Bank is a mid-sized private bank that deals in all kinds of banking products, like Savings accounts, Current accounts, investment products, credit products, among other offerings.\n",
    "\n",
    "The bank also cross-sells products to its existing customers and to do so they use different kinds of communication like tele-calling, e-mails, recommendations on net banking, mobile banking, etc. \n",
    "\n",
    "In this case, the Happy Customer Bank wants to cross sell its credit cards to its existing customers. The bank has identified a set of customers that are eligible for taking these credit cards.\n",
    "\n",
    "Now, the bank is looking for your help in identifying customers that could show higher intent towards a recommended credit card, given:\n",
    "    \n",
    "    - Customer details (gender, age, region etc.)\n",
    "    - Details of his/her relationship with the bank (Channel_Code,Vintage, 'Avg_Asset_Value etc.)"
   ]
  },
  {
   "cell_type": "markdown",
   "metadata": {},
   "source": [
    "## Data Dictionary"
   ]
  },
  {
   "cell_type": "markdown",
   "metadata": {},
   "source": [
    "### Train Data"
   ]
  },
  {
   "cell_type": "markdown",
   "metadata": {},
   "source": [
    "__Variable__         __:__                 __Definition__\n",
    "\n",
    "ID                   __:__             Unique Identifier for a row\n",
    "\n",
    "Gender               __:__             Gender of the Customer\n",
    "\n",
    "Age                  __:__            Age of the Customer (in Years)\n",
    "\n",
    "Region_Code          __:__            Code of the Region for the customers\n",
    "\n",
    "Occupation           __:__            Occupation Type for the customer\n",
    "\n",
    "Channel_Code         __:__            Acquisition Channel Code for the Customer  (Encoded)\n",
    "\n",
    "Vintage              __:__            Vintage for the Customer (In Months)\n",
    "\n",
    "Credit_Product       __:__            If the Customer has any active credit product (Home loan,Personal loan, Credit Card etc.)\n",
    "\n",
    "Avg_Account_Balance  __:__             Average Account Balance for the Customer in last 12 Months\n",
    "\n",
    "Is_Active            __:__            If the Customer is Active in last 3 Months\n",
    "\n",
    "Is_Lead(Target)      __:__            If the Customer is interested for the Credit Card\n",
    "                                  0 : Customer is not interested\n",
    "                                  1 : Customer is interested\n",
    "\n"
   ]
  },
  {
   "cell_type": "markdown",
   "metadata": {},
   "source": [
    "### Test Data"
   ]
  },
  {
   "cell_type": "markdown",
   "metadata": {},
   "source": [
    "__Variable__         __:__                 __Definition__\n",
    "\n",
    "ID                   __:__             Unique Identifier for a row\n",
    "\n",
    "Gender               __:__             Gender of the Customer\n",
    "\n",
    "Age                  __:__            Age of the Customer (in Years)\n",
    "\n",
    "Region_Code          __:__            Code of the Region for the customers\n",
    "\n",
    "Occupation           __:__            Occupation Type for the customer\n",
    "\n",
    "Channel_Code         __:__            Acquisition Channel Code for the Customer  (Encoded)\n",
    "\n",
    "Vintage              __:__            Vintage for the Customer (In Months)\n",
    "\n",
    "Credit_Product       __:__            If the Customer has any active credit product (Home loan,Personal loan, Credit Card etc.)\n",
    "\n",
    "Avg_Account_Balance  __:__             Average Account Balance for the Customer in last 12 Months\n",
    "\n",
    "Is_Active            __:__            If the Customer is Active in last 3 Months"
   ]
  },
  {
   "cell_type": "markdown",
   "metadata": {},
   "source": [
    "### Sample Submission\n",
    "This file contains the exact submission format for the predictions. Please submit CSV file only."
   ]
  },
  {
   "cell_type": "markdown",
   "metadata": {},
   "source": [
    "__Variable__   __:__ \t__Definition__\n",
    "\n",
    "ID             __:__\tUnique Identifier for a row\n",
    "\n",
    "Is_Lead\t(Target)__:__   Probability of Customer showing interest (class 1)\n"
   ]
  },
  {
   "cell_type": "markdown",
   "metadata": {},
   "source": [
    "### Table of Content\n",
    "\n",
    "- Step 1: Importing the Relevant Libraries\n",
    "\n",
    "- Step 2: Data Inspection\n",
    "\n",
    "- Step 3: Data Cleaning\n",
    "\n",
    "- Step 4: Exploratory Data Analysis\n",
    "\n",
    "- Step 5: Building Model\n",
    "\n",
    "- Submission"
   ]
  },
  {
   "cell_type": "markdown",
   "metadata": {},
   "source": [
    "# Importing Libraries"
   ]
  },
  {
   "cell_type": "code",
   "execution_count": 50,
   "metadata": {},
   "outputs": [],
   "source": [
    "import numpy as np\n",
    "import pandas as pd\n",
    "import matplotlib.pyplot as plt\n",
    "import seaborn as sns\n",
    "\n",
    "import warnings\n",
    "warnings.filterwarnings('ignore')"
   ]
  },
  {
   "cell_type": "markdown",
   "metadata": {},
   "source": [
    "## Data Inspetion"
   ]
  },
  {
   "cell_type": "code",
   "execution_count": 51,
   "metadata": {},
   "outputs": [],
   "source": [
    "# loading dataset\n",
    "# train dataset in Train df\n",
    "# test dataset in Test df\n",
    "train=pd.read_csv('train_s3TEQDk.csv')\n",
    "test=pd.read_csv('test_mSzZ8RL.csv')"
   ]
  },
  {
   "cell_type": "code",
   "execution_count": 52,
   "metadata": {},
   "outputs": [
    {
     "data": {
      "text/plain": [
       "(245725, 11)"
      ]
     },
     "execution_count": 52,
     "metadata": {},
     "output_type": "execute_result"
    }
   ],
   "source": [
    "# Checking no. of rows and columns in Train data\n",
    "train.shape"
   ]
  },
  {
   "cell_type": "markdown",
   "metadata": {},
   "source": [
    "- We have 245725 rows and 11 column in Train Dataset"
   ]
  },
  {
   "cell_type": "code",
   "execution_count": 53,
   "metadata": {},
   "outputs": [
    {
     "data": {
      "text/plain": [
       "(105312, 10)"
      ]
     },
     "execution_count": 53,
     "metadata": {},
     "output_type": "execute_result"
    }
   ],
   "source": [
    "# Checking no. of rows and columns in Test data\n",
    "test.shape"
   ]
  },
  {
   "cell_type": "markdown",
   "metadata": {},
   "source": [
    "- We have 105313 rows and 10 column in test set\n"
   ]
  },
  {
   "cell_type": "code",
   "execution_count": 54,
   "metadata": {},
   "outputs": [
    {
     "data": {
      "text/html": [
       "<div>\n",
       "<style scoped>\n",
       "    .dataframe tbody tr th:only-of-type {\n",
       "        vertical-align: middle;\n",
       "    }\n",
       "\n",
       "    .dataframe tbody tr th {\n",
       "        vertical-align: top;\n",
       "    }\n",
       "\n",
       "    .dataframe thead th {\n",
       "        text-align: right;\n",
       "    }\n",
       "</style>\n",
       "<table border=\"1\" class=\"dataframe\">\n",
       "  <thead>\n",
       "    <tr style=\"text-align: right;\">\n",
       "      <th></th>\n",
       "      <th>ID</th>\n",
       "      <th>Gender</th>\n",
       "      <th>Age</th>\n",
       "      <th>Region_Code</th>\n",
       "      <th>Occupation</th>\n",
       "      <th>Channel_Code</th>\n",
       "      <th>Vintage</th>\n",
       "      <th>Credit_Product</th>\n",
       "      <th>Avg_Account_Balance</th>\n",
       "      <th>Is_Active</th>\n",
       "      <th>Is_Lead</th>\n",
       "    </tr>\n",
       "  </thead>\n",
       "  <tbody>\n",
       "    <tr>\n",
       "      <th>0</th>\n",
       "      <td>NNVBBKZB</td>\n",
       "      <td>Female</td>\n",
       "      <td>73</td>\n",
       "      <td>RG268</td>\n",
       "      <td>Other</td>\n",
       "      <td>X3</td>\n",
       "      <td>43</td>\n",
       "      <td>No</td>\n",
       "      <td>1045696</td>\n",
       "      <td>No</td>\n",
       "      <td>0</td>\n",
       "    </tr>\n",
       "    <tr>\n",
       "      <th>1</th>\n",
       "      <td>IDD62UNG</td>\n",
       "      <td>Female</td>\n",
       "      <td>30</td>\n",
       "      <td>RG277</td>\n",
       "      <td>Salaried</td>\n",
       "      <td>X1</td>\n",
       "      <td>32</td>\n",
       "      <td>No</td>\n",
       "      <td>581988</td>\n",
       "      <td>No</td>\n",
       "      <td>0</td>\n",
       "    </tr>\n",
       "    <tr>\n",
       "      <th>2</th>\n",
       "      <td>HD3DSEMC</td>\n",
       "      <td>Female</td>\n",
       "      <td>56</td>\n",
       "      <td>RG268</td>\n",
       "      <td>Self_Employed</td>\n",
       "      <td>X3</td>\n",
       "      <td>26</td>\n",
       "      <td>No</td>\n",
       "      <td>1484315</td>\n",
       "      <td>Yes</td>\n",
       "      <td>0</td>\n",
       "    </tr>\n",
       "    <tr>\n",
       "      <th>3</th>\n",
       "      <td>BF3NC7KV</td>\n",
       "      <td>Male</td>\n",
       "      <td>34</td>\n",
       "      <td>RG270</td>\n",
       "      <td>Salaried</td>\n",
       "      <td>X1</td>\n",
       "      <td>19</td>\n",
       "      <td>No</td>\n",
       "      <td>470454</td>\n",
       "      <td>No</td>\n",
       "      <td>0</td>\n",
       "    </tr>\n",
       "    <tr>\n",
       "      <th>4</th>\n",
       "      <td>TEASRWXV</td>\n",
       "      <td>Female</td>\n",
       "      <td>30</td>\n",
       "      <td>RG282</td>\n",
       "      <td>Salaried</td>\n",
       "      <td>X1</td>\n",
       "      <td>33</td>\n",
       "      <td>No</td>\n",
       "      <td>886787</td>\n",
       "      <td>No</td>\n",
       "      <td>0</td>\n",
       "    </tr>\n",
       "  </tbody>\n",
       "</table>\n",
       "</div>"
      ],
      "text/plain": [
       "         ID  Gender  Age Region_Code     Occupation Channel_Code  Vintage  \\\n",
       "0  NNVBBKZB  Female   73       RG268          Other           X3       43   \n",
       "1  IDD62UNG  Female   30       RG277       Salaried           X1       32   \n",
       "2  HD3DSEMC  Female   56       RG268  Self_Employed           X3       26   \n",
       "3  BF3NC7KV    Male   34       RG270       Salaried           X1       19   \n",
       "4  TEASRWXV  Female   30       RG282       Salaried           X1       33   \n",
       "\n",
       "  Credit_Product  Avg_Account_Balance Is_Active  Is_Lead  \n",
       "0             No              1045696        No        0  \n",
       "1             No               581988        No        0  \n",
       "2             No              1484315       Yes        0  \n",
       "3             No               470454        No        0  \n",
       "4             No               886787        No        0  "
      ]
     },
     "execution_count": 54,
     "metadata": {},
     "output_type": "execute_result"
    }
   ],
   "source": [
    "#Taking look at first few entries in Train Data\n",
    "train.head()"
   ]
  },
  {
   "cell_type": "code",
   "execution_count": 55,
   "metadata": {},
   "outputs": [
    {
     "data": {
      "text/html": [
       "<div>\n",
       "<style scoped>\n",
       "    .dataframe tbody tr th:only-of-type {\n",
       "        vertical-align: middle;\n",
       "    }\n",
       "\n",
       "    .dataframe tbody tr th {\n",
       "        vertical-align: top;\n",
       "    }\n",
       "\n",
       "    .dataframe thead th {\n",
       "        text-align: right;\n",
       "    }\n",
       "</style>\n",
       "<table border=\"1\" class=\"dataframe\">\n",
       "  <thead>\n",
       "    <tr style=\"text-align: right;\">\n",
       "      <th></th>\n",
       "      <th>ID</th>\n",
       "      <th>Gender</th>\n",
       "      <th>Age</th>\n",
       "      <th>Region_Code</th>\n",
       "      <th>Occupation</th>\n",
       "      <th>Channel_Code</th>\n",
       "      <th>Vintage</th>\n",
       "      <th>Credit_Product</th>\n",
       "      <th>Avg_Account_Balance</th>\n",
       "      <th>Is_Active</th>\n",
       "    </tr>\n",
       "  </thead>\n",
       "  <tbody>\n",
       "    <tr>\n",
       "      <th>0</th>\n",
       "      <td>VBENBARO</td>\n",
       "      <td>Male</td>\n",
       "      <td>29</td>\n",
       "      <td>RG254</td>\n",
       "      <td>Other</td>\n",
       "      <td>X1</td>\n",
       "      <td>25</td>\n",
       "      <td>Yes</td>\n",
       "      <td>742366</td>\n",
       "      <td>No</td>\n",
       "    </tr>\n",
       "    <tr>\n",
       "      <th>1</th>\n",
       "      <td>CCMEWNKY</td>\n",
       "      <td>Male</td>\n",
       "      <td>43</td>\n",
       "      <td>RG268</td>\n",
       "      <td>Other</td>\n",
       "      <td>X2</td>\n",
       "      <td>49</td>\n",
       "      <td>NaN</td>\n",
       "      <td>925537</td>\n",
       "      <td>No</td>\n",
       "    </tr>\n",
       "    <tr>\n",
       "      <th>2</th>\n",
       "      <td>VK3KGA9M</td>\n",
       "      <td>Male</td>\n",
       "      <td>31</td>\n",
       "      <td>RG270</td>\n",
       "      <td>Salaried</td>\n",
       "      <td>X1</td>\n",
       "      <td>14</td>\n",
       "      <td>No</td>\n",
       "      <td>215949</td>\n",
       "      <td>No</td>\n",
       "    </tr>\n",
       "    <tr>\n",
       "      <th>3</th>\n",
       "      <td>TT8RPZVC</td>\n",
       "      <td>Male</td>\n",
       "      <td>29</td>\n",
       "      <td>RG272</td>\n",
       "      <td>Other</td>\n",
       "      <td>X1</td>\n",
       "      <td>33</td>\n",
       "      <td>No</td>\n",
       "      <td>868070</td>\n",
       "      <td>No</td>\n",
       "    </tr>\n",
       "    <tr>\n",
       "      <th>4</th>\n",
       "      <td>SHQZEYTZ</td>\n",
       "      <td>Female</td>\n",
       "      <td>29</td>\n",
       "      <td>RG270</td>\n",
       "      <td>Other</td>\n",
       "      <td>X1</td>\n",
       "      <td>19</td>\n",
       "      <td>No</td>\n",
       "      <td>657087</td>\n",
       "      <td>No</td>\n",
       "    </tr>\n",
       "  </tbody>\n",
       "</table>\n",
       "</div>"
      ],
      "text/plain": [
       "         ID  Gender  Age Region_Code Occupation Channel_Code  Vintage  \\\n",
       "0  VBENBARO    Male   29       RG254      Other           X1       25   \n",
       "1  CCMEWNKY    Male   43       RG268      Other           X2       49   \n",
       "2  VK3KGA9M    Male   31       RG270   Salaried           X1       14   \n",
       "3  TT8RPZVC    Male   29       RG272      Other           X1       33   \n",
       "4  SHQZEYTZ  Female   29       RG270      Other           X1       19   \n",
       "\n",
       "  Credit_Product  Avg_Account_Balance Is_Active  \n",
       "0            Yes               742366        No  \n",
       "1            NaN               925537        No  \n",
       "2             No               215949        No  \n",
       "3             No               868070        No  \n",
       "4             No               657087        No  "
      ]
     },
     "execution_count": 55,
     "metadata": {},
     "output_type": "execute_result"
    }
   ],
   "source": [
    "#Taking look at first few entries in Test Data.\n",
    "test.head()"
   ]
  },
  {
   "cell_type": "markdown",
   "metadata": {},
   "source": [
    "- By looking at Train and Test data, we have some categorical features.\n",
    "- Also Is_Lead is our target feature which we need to predict for Test data.\n",
    "- We are having some missing values too can bee seen in Test data."
   ]
  },
  {
   "cell_type": "markdown",
   "metadata": {},
   "source": [
    "#### Checking for Missing/Null values in both the dataset(Train & Test)"
   ]
  },
  {
   "cell_type": "code",
   "execution_count": 56,
   "metadata": {},
   "outputs": [
    {
     "data": {
      "text/plain": [
       "ID                      0.000000\n",
       "Gender                  0.000000\n",
       "Age                     0.000000\n",
       "Region_Code             0.000000\n",
       "Occupation              0.000000\n",
       "Channel_Code            0.000000\n",
       "Vintage                 0.000000\n",
       "Credit_Product         11.934073\n",
       "Avg_Account_Balance     0.000000\n",
       "Is_Active               0.000000\n",
       "Is_Lead                 0.000000\n",
       "dtype: float64"
      ]
     },
     "execution_count": 56,
     "metadata": {},
     "output_type": "execute_result"
    }
   ],
   "source": [
    "# checking percentage of null values in respective columns from train dataset\n",
    "train.isnull().sum()/train.shape[0]*100"
   ]
  },
  {
   "cell_type": "markdown",
   "metadata": {},
   "source": [
    "- From the insight above we have approx 12% of missing value in column \"Credit_Product\" in Train Dataset."
   ]
  },
  {
   "cell_type": "code",
   "execution_count": 57,
   "metadata": {},
   "outputs": [
    {
     "data": {
      "text/plain": [
       "ID                      0.000000\n",
       "Gender                  0.000000\n",
       "Age                     0.000000\n",
       "Region_Code             0.000000\n",
       "Occupation              0.000000\n",
       "Channel_Code            0.000000\n",
       "Vintage                 0.000000\n",
       "Credit_Product         11.890383\n",
       "Avg_Account_Balance     0.000000\n",
       "Is_Active               0.000000\n",
       "dtype: float64"
      ]
     },
     "execution_count": 57,
     "metadata": {},
     "output_type": "execute_result"
    }
   ],
   "source": [
    "# checking percentage of null values in respective columns from test dataset\n",
    "test.isnull().sum()/test.shape[0]*100"
   ]
  },
  {
   "cell_type": "markdown",
   "metadata": {},
   "source": [
    "- Similarly in test dataset also we have approx 12% of missing value in column \"Credit_Product\"."
   ]
  },
  {
   "cell_type": "markdown",
   "metadata": {},
   "source": [
    "#### Checking the no. of categorical & numerical feature in Train & Test Dataset"
   ]
  },
  {
   "cell_type": "code",
   "execution_count": 58,
   "metadata": {},
   "outputs": [
    {
     "name": "stdout",
     "output_type": "stream",
     "text": [
      "Categorical Features in Train Set: 7\n",
      "Numerical Features in Train Set: 4\n"
     ]
    }
   ],
   "source": [
    "# checking categorical feature in train dataset:\n",
    "categorical = train.select_dtypes(include =[np.object])\n",
    "print(\"Categorical Features in Train Set:\",categorical.shape[1])\n",
    "\n",
    "#numerical features\n",
    "numerical= train.select_dtypes(include =[np.float64,np.int64])\n",
    "print(\"Numerical Features in Train Set:\",numerical.shape[1])"
   ]
  },
  {
   "cell_type": "code",
   "execution_count": 59,
   "metadata": {},
   "outputs": [
    {
     "name": "stdout",
     "output_type": "stream",
     "text": [
      "Categorical Features in Test Set: 7\n",
      "Numerical Features in Test Set: 3\n"
     ]
    }
   ],
   "source": [
    "# checking categorical feature in test dataset:\n",
    "categorical = test.select_dtypes(include =[np.object])\n",
    "print(\"Categorical Features in Test Set:\",categorical.shape[1])\n",
    "\n",
    "#numerical features\n",
    "numerical= test.select_dtypes(include =[np.float64,np.int64])\n",
    "print(\"Numerical Features in Test Set:\",numerical.shape[1])"
   ]
  },
  {
   "cell_type": "markdown",
   "metadata": {},
   "source": [
    "# Data Prepration/Data Cleaning"
   ]
  },
  {
   "cell_type": "code",
   "execution_count": 60,
   "metadata": {},
   "outputs": [
    {
     "data": {
      "text/plain": [
       "ID                         0\n",
       "Gender                     0\n",
       "Age                        0\n",
       "Region_Code                0\n",
       "Occupation                 0\n",
       "Channel_Code               0\n",
       "Vintage                    0\n",
       "Credit_Product         29325\n",
       "Avg_Account_Balance        0\n",
       "Is_Active                  0\n",
       "Is_Lead                    0\n",
       "dtype: int64"
      ]
     },
     "execution_count": 60,
     "metadata": {},
     "output_type": "execute_result"
    }
   ],
   "source": [
    "# Checking the total no of missing values in Train dataset\n",
    "train.isnull().sum()"
   ]
  },
  {
   "cell_type": "markdown",
   "metadata": {},
   "source": [
    "- Total of 29325 values are null out of 245725 values in Train dataset"
   ]
  },
  {
   "cell_type": "code",
   "execution_count": 61,
   "metadata": {},
   "outputs": [
    {
     "data": {
      "text/plain": [
       "ID                         0\n",
       "Gender                     0\n",
       "Age                        0\n",
       "Region_Code                0\n",
       "Occupation                 0\n",
       "Channel_Code               0\n",
       "Vintage                    0\n",
       "Credit_Product         12522\n",
       "Avg_Account_Balance        0\n",
       "Is_Active                  0\n",
       "dtype: int64"
      ]
     },
     "execution_count": 61,
     "metadata": {},
     "output_type": "execute_result"
    }
   ],
   "source": [
    "# Checking the total no of missing values in Test dataset\n",
    "test.isnull().sum()"
   ]
  },
  {
   "cell_type": "markdown",
   "metadata": {},
   "source": [
    "- Total of 12522 values are null out of 105312 Values in test set"
   ]
  },
  {
   "cell_type": "code",
   "execution_count": 62,
   "metadata": {},
   "outputs": [],
   "source": [
    "# Creating a new dataframe df similar to train dataset\n",
    "df=train"
   ]
  },
  {
   "cell_type": "code",
   "execution_count": 63,
   "metadata": {},
   "outputs": [
    {
     "data": {
      "text/plain": [
       "No     144357\n",
       "Yes     72043\n",
       "Name: Credit_Product, dtype: int64"
      ]
     },
     "execution_count": 63,
     "metadata": {},
     "output_type": "execute_result"
    }
   ],
   "source": [
    "# Checking the counts of different tpes of value in feature \"Credit_Product\"\n",
    "df['Credit_Product'].value_counts()"
   ]
  },
  {
   "cell_type": "markdown",
   "metadata": {},
   "source": [
    "- Can be seen that \"No\" is most frequent\n",
    "- Imputing the missing values in Train dataset with most frequent occuring value i.e \"No\""
   ]
  },
  {
   "cell_type": "code",
   "execution_count": 64,
   "metadata": {},
   "outputs": [],
   "source": [
    "#using SimpleImputer Function to imput the missing value\n",
    "from sklearn.impute import SimpleImputer\n",
    "imputer = SimpleImputer(missing_values=np.nan, strategy='most_frequent')\n",
    "imputer.fit(df[['Credit_Product']])\n",
    "df[['Credit_Product']] = imputer.transform(df[['Credit_Product']])"
   ]
  },
  {
   "cell_type": "code",
   "execution_count": 65,
   "metadata": {},
   "outputs": [
    {
     "data": {
      "text/plain": [
       "ID                     0\n",
       "Gender                 0\n",
       "Age                    0\n",
       "Region_Code            0\n",
       "Occupation             0\n",
       "Channel_Code           0\n",
       "Vintage                0\n",
       "Credit_Product         0\n",
       "Avg_Account_Balance    0\n",
       "Is_Active              0\n",
       "Is_Lead                0\n",
       "dtype: int64"
      ]
     },
     "execution_count": 65,
     "metadata": {},
     "output_type": "execute_result"
    }
   ],
   "source": [
    "#Checking for missing values after imputation\n",
    "df.isnull().sum()"
   ]
  },
  {
   "cell_type": "markdown",
   "metadata": {},
   "source": [
    "- There is no null values now as we have imputed them with most frequent value."
   ]
  },
  {
   "cell_type": "code",
   "execution_count": 66,
   "metadata": {},
   "outputs": [
    {
     "data": {
      "text/plain": [
       "0    187437\n",
       "1     58288\n",
       "Name: Is_Lead, dtype: int64"
      ]
     },
     "execution_count": 66,
     "metadata": {},
     "output_type": "execute_result"
    }
   ],
   "source": [
    "# Checking the counts of different tpes of value in Target feature \"Is_Lead\"\n",
    "df['Is_Lead'].value_counts()"
   ]
  },
  {
   "cell_type": "markdown",
   "metadata": {},
   "source": [
    "- It shows that our dataset is Imbalanced\n",
    "- So we we train our model with the same, It will be biased towards 0 target\n",
    "- Will use __OverSampling__ Technique for this"
   ]
  },
  {
   "cell_type": "code",
   "execution_count": 67,
   "metadata": {},
   "outputs": [],
   "source": [
    "# Creating a new dataframe with value of Target Feature(\"Is_Lead\") equal to 1\n",
    "onedf=df[df['Is_Lead']==1]"
   ]
  },
  {
   "cell_type": "code",
   "execution_count": 68,
   "metadata": {},
   "outputs": [
    {
     "data": {
      "text/plain": [
       "1    58288\n",
       "Name: Is_Lead, dtype: int64"
      ]
     },
     "execution_count": 68,
     "metadata": {},
     "output_type": "execute_result"
    }
   ],
   "source": [
    "onedf['Is_Lead'].value_counts()"
   ]
  },
  {
   "cell_type": "code",
   "execution_count": 69,
   "metadata": {},
   "outputs": [],
   "source": [
    "#Appending the newly created dataframe \"onedf\" to df\n",
    "df=df.append(onedf).append(onedf)"
   ]
  },
  {
   "cell_type": "markdown",
   "metadata": {},
   "source": [
    "- Appending newly created dataframe with entries having only 1 in \"Is_Lead\" feature to \"df\"\n",
    "- This is done to avoid Biasing of prediction"
   ]
  },
  {
   "cell_type": "code",
   "execution_count": 70,
   "metadata": {},
   "outputs": [
    {
     "data": {
      "text/plain": [
       "0    187437\n",
       "1    174864\n",
       "Name: Is_Lead, dtype: int64"
      ]
     },
     "execution_count": 70,
     "metadata": {},
     "output_type": "execute_result"
    }
   ],
   "source": [
    "# Checking the counts of different tpes of value in Target feature \"Is_Lead\"\n",
    "df['Is_Lead'].value_counts()"
   ]
  },
  {
   "cell_type": "markdown",
   "metadata": {},
   "source": [
    "- now data is almost balanced"
   ]
  },
  {
   "cell_type": "markdown",
   "metadata": {},
   "source": [
    "#### Imputin missing value in Test set too with same strategy used in Train set."
   ]
  },
  {
   "cell_type": "code",
   "execution_count": 71,
   "metadata": {},
   "outputs": [],
   "source": [
    "# Creating a new dataframe df similar to train dataset\n",
    "df1=test"
   ]
  },
  {
   "cell_type": "code",
   "execution_count": 72,
   "metadata": {},
   "outputs": [],
   "source": [
    "##using SimpleImputer Function to imput the missing value\n",
    "from sklearn.impute import SimpleImputer\n",
    "imputer1 = SimpleImputer(missing_values=np.nan, strategy='most_frequent')\n",
    "imputer1.fit(df1[['Credit_Product']])\n",
    "df1[['Credit_Product']] = imputer1.transform(df1[['Credit_Product']])"
   ]
  },
  {
   "cell_type": "code",
   "execution_count": 73,
   "metadata": {
    "scrolled": true
   },
   "outputs": [
    {
     "data": {
      "text/plain": [
       "ID                     0\n",
       "Gender                 0\n",
       "Age                    0\n",
       "Region_Code            0\n",
       "Occupation             0\n",
       "Channel_Code           0\n",
       "Vintage                0\n",
       "Credit_Product         0\n",
       "Avg_Account_Balance    0\n",
       "Is_Active              0\n",
       "dtype: int64"
      ]
     },
     "execution_count": 73,
     "metadata": {},
     "output_type": "execute_result"
    }
   ],
   "source": [
    "df1.isnull().sum()"
   ]
  },
  {
   "cell_type": "markdown",
   "metadata": {},
   "source": [
    "- There is no null values in Test set now as we have imputed them with most frequent value."
   ]
  },
  {
   "cell_type": "markdown",
   "metadata": {},
   "source": [
    "# Exploratory Data Analysis"
   ]
  },
  {
   "cell_type": "code",
   "execution_count": 74,
   "metadata": {},
   "outputs": [
    {
     "data": {
      "text/plain": [
       "Index(['ID', 'Gender', 'Age', 'Region_Code', 'Occupation', 'Channel_Code',\n",
       "       'Vintage', 'Credit_Product', 'Avg_Account_Balance', 'Is_Active',\n",
       "       'Is_Lead'],\n",
       "      dtype='object')"
      ]
     },
     "execution_count": 74,
     "metadata": {},
     "output_type": "execute_result"
    }
   ],
   "source": [
    "#Checking the column names in Dataframe\n",
    "df.columns"
   ]
  },
  {
   "cell_type": "code",
   "execution_count": 75,
   "metadata": {},
   "outputs": [
    {
     "data": {
      "text/plain": [
       "Male      205363\n",
       "Female    156938\n",
       "Name: Gender, dtype: int64"
      ]
     },
     "execution_count": 75,
     "metadata": {},
     "output_type": "execute_result"
    }
   ],
   "source": [
    "# checking how many different types of values are there in Gender feature\n",
    "df['Gender'].value_counts()"
   ]
  },
  {
   "cell_type": "code",
   "execution_count": 76,
   "metadata": {},
   "outputs": [
    {
     "data": {
      "text/plain": [
       "Self_Employed    156568\n",
       "Other            104551\n",
       "Salaried          94991\n",
       "Entrepreneur       6191\n",
       "Name: Occupation, dtype: int64"
      ]
     },
     "execution_count": 76,
     "metadata": {},
     "output_type": "execute_result"
    }
   ],
   "source": [
    "# checking how many different types of values are there in Occupation feature\n",
    "df['Occupation'].value_counts()"
   ]
  },
  {
   "cell_type": "code",
   "execution_count": 77,
   "metadata": {},
   "outputs": [
    {
     "data": {
      "text/plain": [
       "X1    122682\n",
       "X3    119150\n",
       "X2    112140\n",
       "X4      8329\n",
       "Name: Channel_Code, dtype: int64"
      ]
     },
     "execution_count": 77,
     "metadata": {},
     "output_type": "execute_result"
    }
   ],
   "source": [
    "# checking how many different types of values are there in Channel_Code feature\n",
    "df['Channel_Code'].value_counts()"
   ]
  },
  {
   "cell_type": "code",
   "execution_count": 78,
   "metadata": {},
   "outputs": [
    {
     "data": {
      "text/plain": [
       "<AxesSubplot:xlabel='Occupation', ylabel='count'>"
      ]
     },
     "execution_count": 78,
     "metadata": {},
     "output_type": "execute_result"
    },
    {
     "data": {
      "image/png": "[encoded data removed]",
      "text/plain": [
       "<Figure size 576x360 with 1 Axes>"
      ]
     },
     "metadata": {
      "needs_background": "light"
     },
     "output_type": "display_data"
    }
   ],
   "source": [
    "# plotting Occupation Feature to gain Insight\n",
    "plt.figure(figsize=(8,5))\n",
    "sns.countplot('Occupation',data=train,palette='ocean')"
   ]
  },
  {
   "cell_type": "markdown",
   "metadata": {},
   "source": [
    "- Most of the customers self_Employed, While customers with occupation as Others & Salaried are almost equal, where as customers who Entreprenuer are very few as compared to rest."
   ]
  },
  {
   "cell_type": "code",
   "execution_count": 79,
   "metadata": {},
   "outputs": [
    {
     "data": {
      "text/plain": [
       "<AxesSubplot:xlabel='Gender', ylabel='count'>"
      ]
     },
     "execution_count": 79,
     "metadata": {},
     "output_type": "execute_result"
    },
    {
     "data": {
      "image/png": "[encoded data removed]",
      "text/plain": [
       "<Figure size 1800x504 with 1 Axes>"
      ]
     },
     "metadata": {
      "needs_background": "light"
     },
     "output_type": "display_data"
    }
   ],
   "source": [
    "# plotting Gender Feature to gain Insight\n",
    "plt.figure(figsize=(25,7))\n",
    "sns.countplot('Gender',data=train,palette='spring')"
   ]
  },
  {
   "cell_type": "markdown",
   "metadata": {},
   "source": [
    "- Males customers are more as compared to Female"
   ]
  },
  {
   "cell_type": "code",
   "execution_count": 80,
   "metadata": {},
   "outputs": [
    {
     "data": {
      "text/plain": [
       "<AxesSubplot:xlabel='Is_Active', ylabel='count'>"
      ]
     },
     "execution_count": 80,
     "metadata": {},
     "output_type": "execute_result"
    },
    {
     "data": {
      "image/png": "[encoded data removed]",
      "text/plain": [
       "<Figure size 1800x504 with 1 Axes>"
      ]
     },
     "metadata": {
      "needs_background": "light"
     },
     "output_type": "display_data"
    }
   ],
   "source": [
    "# plotting Is_Active Feature to gain Insight\n",
    "plt.figure(figsize=(25,7))\n",
    "sns.countplot('Is_Active',data=train,palette='spring')"
   ]
  },
  {
   "cell_type": "markdown",
   "metadata": {},
   "source": [
    "- Max No of users are Inactive since last three months"
   ]
  },
  {
   "cell_type": "code",
   "execution_count": 81,
   "metadata": {},
   "outputs": [
    {
     "data": {
      "text/plain": [
       "<AxesSubplot:xlabel='Credit_Product', ylabel='count'>"
      ]
     },
     "execution_count": 81,
     "metadata": {},
     "output_type": "execute_result"
    },
    {
     "data": {
      "image/png": "[encoded data removed]",
      "text/plain": [
       "<Figure size 576x360 with 1 Axes>"
      ]
     },
     "metadata": {
      "needs_background": "light"
     },
     "output_type": "display_data"
    }
   ],
   "source": [
    "# plotting Credit_Product Feature to gain Insight\n",
    "plt.figure(figsize=(8,5))\n",
    "sns.countplot('Credit_Product',data=train,palette='summer')"
   ]
  },
  {
   "cell_type": "markdown",
   "metadata": {},
   "source": [
    "- Max no of customers in bank have no active credit product(i.e. Loans etc)"
   ]
  },
  {
   "cell_type": "code",
   "execution_count": 82,
   "metadata": {},
   "outputs": [
    {
     "data": {
      "text/plain": [
       "<AxesSubplot:xlabel='Channel_Code', ylabel='count'>"
      ]
     },
     "execution_count": 82,
     "metadata": {},
     "output_type": "execute_result"
    },
    {
     "data": {
      "image/png": "[encoded data removed]",
      "text/plain": [
       "<Figure size 576x360 with 1 Axes>"
      ]
     },
     "metadata": {
      "needs_background": "light"
     },
     "output_type": "display_data"
    }
   ],
   "source": [
    "# plotting Gender Feature to gain Insight\n",
    "plt.figure(figsize=(8,5))\n",
    "sns.countplot('Channel_Code',data=train,palette='twilight')"
   ]
  },
  {
   "cell_type": "markdown",
   "metadata": {},
   "source": [
    "- channel code 1 count is more"
   ]
  },
  {
   "cell_type": "code",
   "execution_count": 83,
   "metadata": {},
   "outputs": [
    {
     "data": {
      "text/plain": [
       "<AxesSubplot:xlabel='Region_Code', ylabel='count'>"
      ]
     },
     "execution_count": 83,
     "metadata": {},
     "output_type": "execute_result"
    },
    {
     "data": {
      "image/png": "[encoded data removed]",
      "text/plain": [
       "<Figure size 2088x360 with 1 Axes>"
      ]
     },
     "metadata": {
      "needs_background": "light"
     },
     "output_type": "display_data"
    }
   ],
   "source": [
    "# plotting Gender Feature to gain Insight\n",
    "plt.figure(figsize=(29,5))\n",
    "sns.countplot('Region_Code',data=train,palette='ocean')"
   ]
  },
  {
   "cell_type": "code",
   "execution_count": null,
   "metadata": {},
   "outputs": [],
   "source": []
  },
  {
   "cell_type": "markdown",
   "metadata": {},
   "source": [
    "# Building Model"
   ]
  },
  {
   "cell_type": "code",
   "execution_count": 84,
   "metadata": {},
   "outputs": [],
   "source": [
    "#  Using Labelencoder to encode categorical features\n",
    "from sklearn.preprocessing import LabelEncoder\n",
    "le = LabelEncoder()\n",
    "var_mod = df.select_dtypes(include='object').columns\n",
    "for i in var_mod:\n",
    "    df[i] = le.fit_transform(df[i])    \n",
    "\n",
    "for i in var_mod:\n",
    "    df1[i] = le.fit_transform(df1[i])"
   ]
  },
  {
   "cell_type": "markdown",
   "metadata": {},
   "source": [
    "- Encoding the categorical features for model training purpose using label encode function from scikit learn"
   ]
  },
  {
   "cell_type": "markdown",
   "metadata": {},
   "source": [
    "#### Separating target Feature & Independent Features"
   ]
  },
  {
   "cell_type": "code",
   "execution_count": 85,
   "metadata": {},
   "outputs": [],
   "source": [
    "# Seperate Features and Target\n",
    "X= df.drop(columns = ['Is_Lead'], axis=1)\n",
    "y= df['Is_Lead']"
   ]
  },
  {
   "cell_type": "markdown",
   "metadata": {},
   "source": [
    "#### splitting the train Dataset in to train and validation"
   ]
  },
  {
   "cell_type": "code",
   "execution_count": 86,
   "metadata": {},
   "outputs": [],
   "source": [
    "# 20% data as validation set\n",
    "from sklearn.model_selection import train_test_split\n",
    "X_train,X_valid,y_train,y_valid = train_test_split(X,y,test_size=0.2,random_state=22)"
   ]
  },
  {
   "cell_type": "code",
   "execution_count": 87,
   "metadata": {},
   "outputs": [],
   "source": [
    "#scaling the faeture so that all feature are on same scale\n",
    "from sklearn import preprocessing\n",
    "X_train = preprocessing.scale(X_train)\n",
    "X_valid = preprocessing.scale(X_valid)"
   ]
  },
  {
   "cell_type": "markdown",
   "metadata": {},
   "source": [
    "#### Training CatBoostClassifier"
   ]
  },
  {
   "cell_type": "code",
   "execution_count": 88,
   "metadata": {},
   "outputs": [
    {
     "name": "stdout",
     "output_type": "stream",
     "text": [
      "Learning rate set to 0.115951\n",
      "0:\tlearn: 0.6679235\ttotal: 298ms\tremaining: 4m 57s\n",
      "1:\tlearn: 0.6483612\ttotal: 597ms\tremaining: 4m 58s\n",
      "2:\tlearn: 0.6272271\ttotal: 805ms\tremaining: 4m 27s\n",
      "3:\tlearn: 0.6154797\ttotal: 1.06s\tremaining: 4m 24s\n",
      "4:\tlearn: 0.6064217\ttotal: 1.33s\tremaining: 4m 24s\n",
      "5:\tlearn: 0.5990206\ttotal: 1.5s\tremaining: 4m 8s\n",
      "6:\tlearn: 0.5901660\ttotal: 1.69s\tremaining: 4m\n",
      "7:\tlearn: 0.5863603\ttotal: 1.86s\tremaining: 3m 50s\n",
      "8:\tlearn: 0.5808195\ttotal: 2.06s\tremaining: 3m 46s\n",
      "9:\tlearn: 0.5777258\ttotal: 2.29s\tremaining: 3m 46s\n",
      "10:\tlearn: 0.5751091\ttotal: 2.44s\tremaining: 3m 39s\n",
      "11:\tlearn: 0.5731692\ttotal: 2.6s\tremaining: 3m 34s\n",
      "12:\tlearn: 0.5714359\ttotal: 2.75s\tremaining: 3m 28s\n",
      "13:\tlearn: 0.5675271\ttotal: 2.94s\tremaining: 3m 26s\n",
      "14:\tlearn: 0.5664337\ttotal: 3.08s\tremaining: 3m 22s\n",
      "15:\tlearn: 0.5655070\ttotal: 3.26s\tremaining: 3m 20s\n",
      "16:\tlearn: 0.5643705\ttotal: 3.48s\tremaining: 3m 21s\n",
      "17:\tlearn: 0.5637455\ttotal: 3.64s\tremaining: 3m 18s\n",
      "18:\tlearn: 0.5622047\ttotal: 3.82s\tremaining: 3m 17s\n",
      "19:\tlearn: 0.5615380\ttotal: 3.97s\tremaining: 3m 14s\n",
      "20:\tlearn: 0.5609772\ttotal: 4.14s\tremaining: 3m 12s\n",
      "21:\tlearn: 0.5605092\ttotal: 4.27s\tremaining: 3m 9s\n",
      "22:\tlearn: 0.5597480\ttotal: 4.5s\tremaining: 3m 11s\n",
      "23:\tlearn: 0.5592364\ttotal: 4.65s\tremaining: 3m 8s\n",
      "24:\tlearn: 0.5578589\ttotal: 4.83s\tremaining: 3m 8s\n",
      "25:\tlearn: 0.5574798\ttotal: 4.97s\tremaining: 3m 6s\n",
      "26:\tlearn: 0.5572181\ttotal: 5.17s\tremaining: 3m 6s\n",
      "27:\tlearn: 0.5569856\ttotal: 5.3s\tremaining: 3m 4s\n",
      "28:\tlearn: 0.5567829\ttotal: 5.54s\tremaining: 3m 5s\n",
      "29:\tlearn: 0.5565828\ttotal: 5.69s\tremaining: 3m 4s\n",
      "30:\tlearn: 0.5563818\ttotal: 5.88s\tremaining: 3m 3s\n",
      "31:\tlearn: 0.5557287\ttotal: 6.05s\tremaining: 3m 2s\n",
      "32:\tlearn: 0.5555795\ttotal: 6.21s\tremaining: 3m 1s\n",
      "33:\tlearn: 0.5554118\ttotal: 6.36s\tremaining: 3m\n",
      "34:\tlearn: 0.5552451\ttotal: 6.52s\tremaining: 2m 59s\n",
      "35:\tlearn: 0.5550874\ttotal: 6.75s\tremaining: 3m\n",
      "36:\tlearn: 0.5548563\ttotal: 6.89s\tremaining: 2m 59s\n",
      "37:\tlearn: 0.5545284\ttotal: 7.09s\tremaining: 2m 59s\n",
      "38:\tlearn: 0.5543282\ttotal: 7.25s\tremaining: 2m 58s\n",
      "39:\tlearn: 0.5542174\ttotal: 7.44s\tremaining: 2m 58s\n",
      "40:\tlearn: 0.5540875\ttotal: 7.6s\tremaining: 2m 57s\n",
      "41:\tlearn: 0.5539616\ttotal: 7.81s\tremaining: 2m 58s\n",
      "42:\tlearn: 0.5537945\ttotal: 7.97s\tremaining: 2m 57s\n",
      "43:\tlearn: 0.5536056\ttotal: 8.17s\tremaining: 2m 57s\n",
      "44:\tlearn: 0.5534455\ttotal: 8.3s\tremaining: 2m 56s\n",
      "45:\tlearn: 0.5533521\ttotal: 8.48s\tremaining: 2m 55s\n",
      "46:\tlearn: 0.5533011\ttotal: 8.62s\tremaining: 2m 54s\n",
      "47:\tlearn: 0.5532061\ttotal: 8.86s\tremaining: 2m 55s\n",
      "48:\tlearn: 0.5529889\ttotal: 9.03s\tremaining: 2m 55s\n",
      "49:\tlearn: 0.5528373\ttotal: 9.21s\tremaining: 2m 55s\n",
      "50:\tlearn: 0.5527230\ttotal: 9.57s\tremaining: 2m 58s\n",
      "51:\tlearn: 0.5525987\ttotal: 9.79s\tremaining: 2m 58s\n",
      "52:\tlearn: 0.5524327\ttotal: 10s\tremaining: 2m 59s\n",
      "53:\tlearn: 0.5521468\ttotal: 10.2s\tremaining: 2m 58s\n",
      "54:\tlearn: 0.5520498\ttotal: 10.4s\tremaining: 2m 59s\n",
      "55:\tlearn: 0.5519127\ttotal: 10.6s\tremaining: 2m 58s\n",
      "56:\tlearn: 0.5518496\ttotal: 10.8s\tremaining: 2m 58s\n",
      "57:\tlearn: 0.5517211\ttotal: 11s\tremaining: 2m 59s\n",
      "58:\tlearn: 0.5516571\ttotal: 11.2s\tremaining: 2m 58s\n",
      "59:\tlearn: 0.5515264\ttotal: 11.3s\tremaining: 2m 57s\n",
      "60:\tlearn: 0.5513742\ttotal: 11.5s\tremaining: 2m 56s\n",
      "61:\tlearn: 0.5513061\ttotal: 11.7s\tremaining: 2m 57s\n",
      "62:\tlearn: 0.5512577\ttotal: 11.9s\tremaining: 2m 56s\n",
      "63:\tlearn: 0.5511683\ttotal: 12.1s\tremaining: 2m 57s\n",
      "64:\tlearn: 0.5510602\ttotal: 12.3s\tremaining: 2m 56s\n",
      "65:\tlearn: 0.5509849\ttotal: 12.4s\tremaining: 2m 55s\n",
      "66:\tlearn: 0.5509185\ttotal: 12.6s\tremaining: 2m 55s\n",
      "67:\tlearn: 0.5508563\ttotal: 12.8s\tremaining: 2m 54s\n",
      "68:\tlearn: 0.5508079\ttotal: 12.9s\tremaining: 2m 54s\n",
      "69:\tlearn: 0.5504199\ttotal: 13.2s\tremaining: 2m 55s\n",
      "70:\tlearn: 0.5503213\ttotal: 13.4s\tremaining: 2m 55s\n",
      "71:\tlearn: 0.5502635\ttotal: 13.6s\tremaining: 2m 55s\n",
      "72:\tlearn: 0.5502046\ttotal: 13.8s\tremaining: 2m 55s\n",
      "73:\tlearn: 0.5501438\ttotal: 14s\tremaining: 2m 54s\n",
      "74:\tlearn: 0.5500933\ttotal: 14.2s\tremaining: 2m 54s\n",
      "75:\tlearn: 0.5500078\ttotal: 14.5s\tremaining: 2m 55s\n",
      "76:\tlearn: 0.5499050\ttotal: 14.7s\tremaining: 2m 55s\n",
      "77:\tlearn: 0.5498337\ttotal: 14.8s\tremaining: 2m 55s\n",
      "78:\tlearn: 0.5497780\ttotal: 15s\tremaining: 2m 54s\n",
      "79:\tlearn: 0.5497165\ttotal: 15.2s\tremaining: 2m 54s\n",
      "80:\tlearn: 0.5496716\ttotal: 15.6s\tremaining: 2m 56s\n",
      "81:\tlearn: 0.5496170\ttotal: 16s\tremaining: 2m 58s\n",
      "82:\tlearn: 0.5495286\ttotal: 16.2s\tremaining: 2m 59s\n",
      "83:\tlearn: 0.5494407\ttotal: 16.5s\tremaining: 3m\n",
      "84:\tlearn: 0.5493861\ttotal: 16.8s\tremaining: 3m\n",
      "85:\tlearn: 0.5493136\ttotal: 17s\tremaining: 3m\n",
      "86:\tlearn: 0.5492383\ttotal: 17.2s\tremaining: 3m\n",
      "87:\tlearn: 0.5491951\ttotal: 17.5s\tremaining: 3m 1s\n",
      "88:\tlearn: 0.5491601\ttotal: 17.7s\tremaining: 3m 1s\n",
      "89:\tlearn: 0.5491179\ttotal: 18s\tremaining: 3m 2s\n",
      "90:\tlearn: 0.5490712\ttotal: 18.2s\tremaining: 3m 1s\n",
      "91:\tlearn: 0.5490008\ttotal: 18.6s\tremaining: 3m 3s\n",
      "92:\tlearn: 0.5489409\ttotal: 19s\tremaining: 3m 5s\n",
      "93:\tlearn: 0.5488896\ttotal: 19.4s\tremaining: 3m 6s\n",
      "94:\tlearn: 0.5488331\ttotal: 19.5s\tremaining: 3m 6s\n",
      "95:\tlearn: 0.5487221\ttotal: 19.7s\tremaining: 3m 5s\n",
      "96:\tlearn: 0.5486569\ttotal: 20.1s\tremaining: 3m 7s\n",
      "97:\tlearn: 0.5485810\ttotal: 20.5s\tremaining: 3m 8s\n",
      "98:\tlearn: 0.5485198\ttotal: 20.7s\tremaining: 3m 8s\n",
      "99:\tlearn: 0.5484371\ttotal: 20.9s\tremaining: 3m 8s\n",
      "100:\tlearn: 0.5483991\ttotal: 21.1s\tremaining: 3m 7s\n",
      "101:\tlearn: 0.5483425\ttotal: 21.3s\tremaining: 3m 7s\n",
      "102:\tlearn: 0.5483063\ttotal: 21.4s\tremaining: 3m 6s\n",
      "103:\tlearn: 0.5482527\ttotal: 21.6s\tremaining: 3m 6s\n",
      "104:\tlearn: 0.5482021\ttotal: 21.9s\tremaining: 3m 6s\n",
      "105:\tlearn: 0.5481700\ttotal: 22.2s\tremaining: 3m 7s\n",
      "106:\tlearn: 0.5481055\ttotal: 22.5s\tremaining: 3m 7s\n",
      "107:\tlearn: 0.5480594\ttotal: 22.7s\tremaining: 3m 7s\n",
      "108:\tlearn: 0.5480187\ttotal: 22.9s\tremaining: 3m 7s\n",
      "109:\tlearn: 0.5479466\ttotal: 23.3s\tremaining: 3m 8s\n",
      "110:\tlearn: 0.5478849\ttotal: 23.7s\tremaining: 3m 9s\n",
      "111:\tlearn: 0.5478366\ttotal: 24s\tremaining: 3m 10s\n",
      "112:\tlearn: 0.5477257\ttotal: 24.3s\tremaining: 3m 11s\n",
      "113:\tlearn: 0.5476575\ttotal: 24.6s\tremaining: 3m 11s\n",
      "114:\tlearn: 0.5476105\ttotal: 24.8s\tremaining: 3m 10s\n",
      "115:\tlearn: 0.5475328\ttotal: 25.1s\tremaining: 3m 10s\n",
      "116:\tlearn: 0.5474762\ttotal: 25.3s\tremaining: 3m 10s\n",
      "117:\tlearn: 0.5474310\ttotal: 25.6s\tremaining: 3m 11s\n",
      "118:\tlearn: 0.5473601\ttotal: 26s\tremaining: 3m 12s\n",
      "119:\tlearn: 0.5473034\ttotal: 26.4s\tremaining: 3m 13s\n",
      "120:\tlearn: 0.5472527\ttotal: 26.8s\tremaining: 3m 14s\n",
      "121:\tlearn: 0.5471053\ttotal: 27s\tremaining: 3m 14s\n",
      "122:\tlearn: 0.5470512\ttotal: 27.3s\tremaining: 3m 14s\n",
      "123:\tlearn: 0.5469838\ttotal: 27.6s\tremaining: 3m 14s\n",
      "124:\tlearn: 0.5469353\ttotal: 27.9s\tremaining: 3m 14s\n",
      "125:\tlearn: 0.5468693\ttotal: 28.2s\tremaining: 3m 15s\n",
      "126:\tlearn: 0.5468107\ttotal: 28.4s\tremaining: 3m 15s\n",
      "127:\tlearn: 0.5467589\ttotal: 28.8s\tremaining: 3m 15s\n",
      "128:\tlearn: 0.5466917\ttotal: 29s\tremaining: 3m 16s\n",
      "129:\tlearn: 0.5466226\ttotal: 29.2s\tremaining: 3m 15s\n",
      "130:\tlearn: 0.5465689\ttotal: 29.4s\tremaining: 3m 15s\n",
      "131:\tlearn: 0.5465172\ttotal: 29.6s\tremaining: 3m 14s\n",
      "132:\tlearn: 0.5464555\ttotal: 29.9s\tremaining: 3m 15s\n",
      "133:\tlearn: 0.5463941\ttotal: 30.1s\tremaining: 3m 14s\n",
      "134:\tlearn: 0.5463418\ttotal: 30.3s\tremaining: 3m 14s\n",
      "135:\tlearn: 0.5462955\ttotal: 30.5s\tremaining: 3m 13s\n",
      "136:\tlearn: 0.5461975\ttotal: 30.7s\tremaining: 3m 13s\n",
      "137:\tlearn: 0.5461420\ttotal: 30.9s\tremaining: 3m 12s\n",
      "138:\tlearn: 0.5460841\ttotal: 31s\tremaining: 3m 12s\n",
      "139:\tlearn: 0.5460203\ttotal: 31.3s\tremaining: 3m 11s\n",
      "140:\tlearn: 0.5459724\ttotal: 31.4s\tremaining: 3m 11s\n",
      "141:\tlearn: 0.5458495\ttotal: 31.6s\tremaining: 3m 10s\n",
      "142:\tlearn: 0.5457956\ttotal: 31.7s\tremaining: 3m 10s\n",
      "143:\tlearn: 0.5457630\ttotal: 31.9s\tremaining: 3m 9s\n",
      "144:\tlearn: 0.5457085\ttotal: 32.1s\tremaining: 3m 9s\n",
      "145:\tlearn: 0.5456566\ttotal: 32.3s\tremaining: 3m 9s\n",
      "146:\tlearn: 0.5456109\ttotal: 32.5s\tremaining: 3m 8s\n",
      "147:\tlearn: 0.5455529\ttotal: 32.7s\tremaining: 3m 8s\n",
      "148:\tlearn: 0.5455135\ttotal: 32.8s\tremaining: 3m 7s\n",
      "149:\tlearn: 0.5454666\ttotal: 33s\tremaining: 3m 7s\n",
      "150:\tlearn: 0.5454081\ttotal: 33.2s\tremaining: 3m 6s\n",
      "151:\tlearn: 0.5453509\ttotal: 33.4s\tremaining: 3m 6s\n",
      "152:\tlearn: 0.5453041\ttotal: 33.6s\tremaining: 3m 5s\n",
      "153:\tlearn: 0.5452487\ttotal: 33.7s\tremaining: 3m 5s\n",
      "154:\tlearn: 0.5451929\ttotal: 33.9s\tremaining: 3m 4s\n",
      "155:\tlearn: 0.5451553\ttotal: 34.1s\tremaining: 3m 4s\n",
      "156:\tlearn: 0.5451068\ttotal: 34.3s\tremaining: 3m 3s\n",
      "157:\tlearn: 0.5450560\ttotal: 34.5s\tremaining: 3m 4s\n",
      "158:\tlearn: 0.5449862\ttotal: 34.7s\tremaining: 3m 3s\n"
     ]
    },
    {
     "name": "stdout",
     "output_type": "stream",
     "text": [
      "159:\tlearn: 0.5447608\ttotal: 34.9s\tremaining: 3m 3s\n",
      "160:\tlearn: 0.5447014\ttotal: 35.1s\tremaining: 3m 2s\n",
      "161:\tlearn: 0.5446532\ttotal: 35.2s\tremaining: 3m 2s\n",
      "162:\tlearn: 0.5446052\ttotal: 35.4s\tremaining: 3m 1s\n",
      "163:\tlearn: 0.5445589\ttotal: 35.6s\tremaining: 3m 1s\n",
      "164:\tlearn: 0.5444857\ttotal: 35.8s\tremaining: 3m 1s\n",
      "165:\tlearn: 0.5444368\ttotal: 36s\tremaining: 3m\n",
      "166:\tlearn: 0.5443986\ttotal: 36.1s\tremaining: 3m\n",
      "167:\tlearn: 0.5443444\ttotal: 36.3s\tremaining: 2m 59s\n",
      "168:\tlearn: 0.5442814\ttotal: 36.5s\tremaining: 2m 59s\n",
      "169:\tlearn: 0.5442401\ttotal: 36.7s\tremaining: 2m 59s\n",
      "170:\tlearn: 0.5441991\ttotal: 36.9s\tremaining: 2m 58s\n",
      "171:\tlearn: 0.5441426\ttotal: 37s\tremaining: 2m 58s\n",
      "172:\tlearn: 0.5440993\ttotal: 37.2s\tremaining: 2m 57s\n",
      "173:\tlearn: 0.5440484\ttotal: 37.4s\tremaining: 2m 57s\n",
      "174:\tlearn: 0.5439774\ttotal: 37.5s\tremaining: 2m 56s\n",
      "175:\tlearn: 0.5439329\ttotal: 37.8s\tremaining: 2m 56s\n",
      "176:\tlearn: 0.5438981\ttotal: 37.9s\tremaining: 2m 56s\n",
      "177:\tlearn: 0.5438441\ttotal: 38.1s\tremaining: 2m 56s\n",
      "178:\tlearn: 0.5437819\ttotal: 38.3s\tremaining: 2m 55s\n",
      "179:\tlearn: 0.5437308\ttotal: 38.5s\tremaining: 2m 55s\n",
      "180:\tlearn: 0.5436856\ttotal: 38.6s\tremaining: 2m 54s\n",
      "181:\tlearn: 0.5436303\ttotal: 38.8s\tremaining: 2m 54s\n",
      "182:\tlearn: 0.5435863\ttotal: 39s\tremaining: 2m 54s\n",
      "183:\tlearn: 0.5435266\ttotal: 39.2s\tremaining: 2m 53s\n",
      "184:\tlearn: 0.5434788\ttotal: 39.4s\tremaining: 2m 53s\n",
      "185:\tlearn: 0.5433868\ttotal: 39.5s\tremaining: 2m 53s\n",
      "186:\tlearn: 0.5433323\ttotal: 39.7s\tremaining: 2m 52s\n",
      "187:\tlearn: 0.5432937\ttotal: 39.9s\tremaining: 2m 52s\n",
      "188:\tlearn: 0.5432234\ttotal: 40.1s\tremaining: 2m 52s\n",
      "189:\tlearn: 0.5431778\ttotal: 40.3s\tremaining: 2m 51s\n",
      "190:\tlearn: 0.5431274\ttotal: 40.4s\tremaining: 2m 51s\n",
      "191:\tlearn: 0.5430663\ttotal: 40.6s\tremaining: 2m 50s\n",
      "192:\tlearn: 0.5429841\ttotal: 40.8s\tremaining: 2m 50s\n",
      "193:\tlearn: 0.5429394\ttotal: 41s\tremaining: 2m 50s\n",
      "194:\tlearn: 0.5429038\ttotal: 41.2s\tremaining: 2m 49s\n",
      "195:\tlearn: 0.5428516\ttotal: 41.4s\tremaining: 2m 49s\n",
      "196:\tlearn: 0.5428117\ttotal: 41.5s\tremaining: 2m 49s\n",
      "197:\tlearn: 0.5427627\ttotal: 41.7s\tremaining: 2m 48s\n",
      "198:\tlearn: 0.5427190\ttotal: 41.9s\tremaining: 2m 48s\n",
      "199:\tlearn: 0.5426757\ttotal: 42.1s\tremaining: 2m 48s\n",
      "200:\tlearn: 0.5426289\ttotal: 42.3s\tremaining: 2m 48s\n",
      "201:\tlearn: 0.5425817\ttotal: 42.4s\tremaining: 2m 47s\n",
      "202:\tlearn: 0.5425408\ttotal: 42.6s\tremaining: 2m 47s\n",
      "203:\tlearn: 0.5424873\ttotal: 42.8s\tremaining: 2m 46s\n",
      "204:\tlearn: 0.5424063\ttotal: 42.9s\tremaining: 2m 46s\n",
      "205:\tlearn: 0.5423420\ttotal: 43.1s\tremaining: 2m 46s\n",
      "206:\tlearn: 0.5422993\ttotal: 43.3s\tremaining: 2m 45s\n",
      "207:\tlearn: 0.5422497\ttotal: 43.5s\tremaining: 2m 45s\n",
      "208:\tlearn: 0.5422051\ttotal: 43.6s\tremaining: 2m 45s\n",
      "209:\tlearn: 0.5421707\ttotal: 43.8s\tremaining: 2m 44s\n",
      "210:\tlearn: 0.5421082\ttotal: 44s\tremaining: 2m 44s\n",
      "211:\tlearn: 0.5420775\ttotal: 44.2s\tremaining: 2m 44s\n",
      "212:\tlearn: 0.5420233\ttotal: 44.4s\tremaining: 2m 43s\n",
      "213:\tlearn: 0.5419769\ttotal: 44.5s\tremaining: 2m 43s\n",
      "214:\tlearn: 0.5419389\ttotal: 44.7s\tremaining: 2m 43s\n",
      "215:\tlearn: 0.5418857\ttotal: 44.9s\tremaining: 2m 42s\n",
      "216:\tlearn: 0.5418440\ttotal: 45s\tremaining: 2m 42s\n",
      "217:\tlearn: 0.5418006\ttotal: 45.3s\tremaining: 2m 42s\n",
      "218:\tlearn: 0.5417719\ttotal: 45.4s\tremaining: 2m 42s\n",
      "219:\tlearn: 0.5417182\ttotal: 45.6s\tremaining: 2m 41s\n",
      "220:\tlearn: 0.5416743\ttotal: 45.8s\tremaining: 2m 41s\n",
      "221:\tlearn: 0.5416222\ttotal: 46s\tremaining: 2m 41s\n",
      "222:\tlearn: 0.5415765\ttotal: 46.1s\tremaining: 2m 40s\n",
      "223:\tlearn: 0.5415394\ttotal: 46.3s\tremaining: 2m 40s\n",
      "224:\tlearn: 0.5415002\ttotal: 46.5s\tremaining: 2m 40s\n",
      "225:\tlearn: 0.5414527\ttotal: 46.7s\tremaining: 2m 39s\n",
      "226:\tlearn: 0.5414121\ttotal: 47s\tremaining: 2m 39s\n",
      "227:\tlearn: 0.5413843\ttotal: 47.2s\tremaining: 2m 39s\n",
      "228:\tlearn: 0.5413466\ttotal: 47.4s\tremaining: 2m 39s\n",
      "229:\tlearn: 0.5413122\ttotal: 47.6s\tremaining: 2m 39s\n",
      "230:\tlearn: 0.5412531\ttotal: 47.8s\tremaining: 2m 39s\n",
      "231:\tlearn: 0.5412181\ttotal: 47.9s\tremaining: 2m 38s\n",
      "232:\tlearn: 0.5411547\ttotal: 48.1s\tremaining: 2m 38s\n",
      "233:\tlearn: 0.5411033\ttotal: 48.3s\tremaining: 2m 38s\n",
      "234:\tlearn: 0.5410552\ttotal: 48.5s\tremaining: 2m 37s\n",
      "235:\tlearn: 0.5410066\ttotal: 48.7s\tremaining: 2m 37s\n",
      "236:\tlearn: 0.5409622\ttotal: 48.8s\tremaining: 2m 37s\n",
      "237:\tlearn: 0.5409217\ttotal: 49s\tremaining: 2m 36s\n",
      "238:\tlearn: 0.5408854\ttotal: 49.2s\tremaining: 2m 36s\n",
      "239:\tlearn: 0.5408380\ttotal: 49.3s\tremaining: 2m 36s\n",
      "240:\tlearn: 0.5408011\ttotal: 49.6s\tremaining: 2m 36s\n",
      "241:\tlearn: 0.5407693\ttotal: 49.7s\tremaining: 2m 35s\n",
      "242:\tlearn: 0.5407188\ttotal: 49.9s\tremaining: 2m 35s\n",
      "243:\tlearn: 0.5406696\ttotal: 50s\tremaining: 2m 35s\n",
      "244:\tlearn: 0.5406109\ttotal: 50.2s\tremaining: 2m 34s\n",
      "245:\tlearn: 0.5405767\ttotal: 50.4s\tremaining: 2m 34s\n",
      "246:\tlearn: 0.5405350\ttotal: 50.6s\tremaining: 2m 34s\n",
      "247:\tlearn: 0.5404915\ttotal: 50.8s\tremaining: 2m 33s\n",
      "248:\tlearn: 0.5404375\ttotal: 50.9s\tremaining: 2m 33s\n",
      "249:\tlearn: 0.5403774\ttotal: 51.1s\tremaining: 2m 33s\n",
      "250:\tlearn: 0.5403274\ttotal: 51.3s\tremaining: 2m 33s\n",
      "251:\tlearn: 0.5402936\ttotal: 51.4s\tremaining: 2m 32s\n",
      "252:\tlearn: 0.5402317\ttotal: 51.7s\tremaining: 2m 32s\n",
      "253:\tlearn: 0.5401680\ttotal: 51.9s\tremaining: 2m 32s\n",
      "254:\tlearn: 0.5401300\ttotal: 52s\tremaining: 2m 32s\n",
      "255:\tlearn: 0.5400733\ttotal: 52.2s\tremaining: 2m 31s\n",
      "256:\tlearn: 0.5400379\ttotal: 52.4s\tremaining: 2m 31s\n",
      "257:\tlearn: 0.5399929\ttotal: 52.5s\tremaining: 2m 31s\n",
      "258:\tlearn: 0.5399583\ttotal: 52.8s\tremaining: 2m 30s\n",
      "259:\tlearn: 0.5399199\ttotal: 52.9s\tremaining: 2m 30s\n",
      "260:\tlearn: 0.5398695\ttotal: 53.1s\tremaining: 2m 30s\n",
      "261:\tlearn: 0.5398350\ttotal: 53.3s\tremaining: 2m 30s\n",
      "262:\tlearn: 0.5397945\ttotal: 53.4s\tremaining: 2m 29s\n",
      "263:\tlearn: 0.5397465\ttotal: 53.6s\tremaining: 2m 29s\n",
      "264:\tlearn: 0.5397115\ttotal: 53.9s\tremaining: 2m 29s\n",
      "265:\tlearn: 0.5396699\ttotal: 54s\tremaining: 2m 29s\n",
      "266:\tlearn: 0.5396361\ttotal: 54.2s\tremaining: 2m 28s\n",
      "267:\tlearn: 0.5395943\ttotal: 54.4s\tremaining: 2m 28s\n",
      "268:\tlearn: 0.5395604\ttotal: 54.5s\tremaining: 2m 28s\n",
      "269:\tlearn: 0.5395181\ttotal: 54.7s\tremaining: 2m 27s\n",
      "270:\tlearn: 0.5394786\ttotal: 54.9s\tremaining: 2m 27s\n",
      "271:\tlearn: 0.5394290\ttotal: 55.1s\tremaining: 2m 27s\n",
      "272:\tlearn: 0.5393948\ttotal: 55.3s\tremaining: 2m 27s\n",
      "273:\tlearn: 0.5393470\ttotal: 55.4s\tremaining: 2m 26s\n",
      "274:\tlearn: 0.5393075\ttotal: 55.6s\tremaining: 2m 26s\n",
      "275:\tlearn: 0.5392710\ttotal: 55.8s\tremaining: 2m 26s\n",
      "276:\tlearn: 0.5392240\ttotal: 56s\tremaining: 2m 26s\n",
      "277:\tlearn: 0.5391814\ttotal: 56.2s\tremaining: 2m 25s\n",
      "278:\tlearn: 0.5391279\ttotal: 56.3s\tremaining: 2m 25s\n",
      "279:\tlearn: 0.5390985\ttotal: 56.5s\tremaining: 2m 25s\n",
      "280:\tlearn: 0.5390602\ttotal: 56.7s\tremaining: 2m 25s\n",
      "281:\tlearn: 0.5390127\ttotal: 56.9s\tremaining: 2m 24s\n",
      "282:\tlearn: 0.5389545\ttotal: 57.1s\tremaining: 2m 24s\n",
      "283:\tlearn: 0.5389122\ttotal: 57.2s\tremaining: 2m 24s\n",
      "284:\tlearn: 0.5388661\ttotal: 57.4s\tremaining: 2m 24s\n",
      "285:\tlearn: 0.5388226\ttotal: 57.6s\tremaining: 2m 23s\n",
      "286:\tlearn: 0.5387930\ttotal: 57.8s\tremaining: 2m 23s\n",
      "287:\tlearn: 0.5387666\ttotal: 57.9s\tremaining: 2m 23s\n",
      "288:\tlearn: 0.5387339\ttotal: 58.1s\tremaining: 2m 23s\n",
      "289:\tlearn: 0.5386970\ttotal: 58.3s\tremaining: 2m 22s\n",
      "290:\tlearn: 0.5386513\ttotal: 58.5s\tremaining: 2m 22s\n",
      "291:\tlearn: 0.5386019\ttotal: 58.7s\tremaining: 2m 22s\n",
      "292:\tlearn: 0.5385531\ttotal: 58.8s\tremaining: 2m 21s\n",
      "293:\tlearn: 0.5385047\ttotal: 59s\tremaining: 2m 21s\n",
      "294:\tlearn: 0.5384630\ttotal: 59.3s\tremaining: 2m 21s\n",
      "295:\tlearn: 0.5384150\ttotal: 59.4s\tremaining: 2m 21s\n",
      "296:\tlearn: 0.5383697\ttotal: 59.6s\tremaining: 2m 21s\n",
      "297:\tlearn: 0.5383291\ttotal: 59.8s\tremaining: 2m 20s\n",
      "298:\tlearn: 0.5382876\ttotal: 60s\tremaining: 2m 20s\n",
      "299:\tlearn: 0.5382500\ttotal: 1m\tremaining: 2m 20s\n",
      "300:\tlearn: 0.5382181\ttotal: 1m\tremaining: 2m 20s\n",
      "301:\tlearn: 0.5381740\ttotal: 1m\tremaining: 2m 19s\n",
      "302:\tlearn: 0.5381311\ttotal: 1m\tremaining: 2m 19s\n",
      "303:\tlearn: 0.5380938\ttotal: 1m\tremaining: 2m 19s\n",
      "304:\tlearn: 0.5380591\ttotal: 1m 1s\tremaining: 2m 19s\n",
      "305:\tlearn: 0.5380171\ttotal: 1m 1s\tremaining: 2m 18s\n",
      "306:\tlearn: 0.5379807\ttotal: 1m 1s\tremaining: 2m 18s\n",
      "307:\tlearn: 0.5379393\ttotal: 1m 1s\tremaining: 2m 18s\n",
      "308:\tlearn: 0.5378985\ttotal: 1m 1s\tremaining: 2m 18s\n",
      "309:\tlearn: 0.5378679\ttotal: 1m 1s\tremaining: 2m 17s\n",
      "310:\tlearn: 0.5378275\ttotal: 1m 2s\tremaining: 2m 17s\n",
      "311:\tlearn: 0.5377913\ttotal: 1m 2s\tremaining: 2m 17s\n",
      "312:\tlearn: 0.5377578\ttotal: 1m 2s\tremaining: 2m 17s\n",
      "313:\tlearn: 0.5377126\ttotal: 1m 2s\tremaining: 2m 16s\n",
      "314:\tlearn: 0.5376661\ttotal: 1m 2s\tremaining: 2m 16s\n"
     ]
    },
    {
     "name": "stdout",
     "output_type": "stream",
     "text": [
      "315:\tlearn: 0.5376192\ttotal: 1m 3s\tremaining: 2m 16s\n",
      "316:\tlearn: 0.5375803\ttotal: 1m 3s\tremaining: 2m 16s\n",
      "317:\tlearn: 0.5375388\ttotal: 1m 3s\tremaining: 2m 15s\n",
      "318:\tlearn: 0.5375041\ttotal: 1m 3s\tremaining: 2m 15s\n",
      "319:\tlearn: 0.5374654\ttotal: 1m 3s\tremaining: 2m 15s\n",
      "320:\tlearn: 0.5374141\ttotal: 1m 3s\tremaining: 2m 15s\n",
      "321:\tlearn: 0.5373643\ttotal: 1m 4s\tremaining: 2m 14s\n",
      "322:\tlearn: 0.5373352\ttotal: 1m 4s\tremaining: 2m 14s\n",
      "323:\tlearn: 0.5372944\ttotal: 1m 4s\tremaining: 2m 14s\n",
      "324:\tlearn: 0.5372512\ttotal: 1m 4s\tremaining: 2m 14s\n",
      "325:\tlearn: 0.5372164\ttotal: 1m 4s\tremaining: 2m 14s\n",
      "326:\tlearn: 0.5371790\ttotal: 1m 4s\tremaining: 2m 13s\n",
      "327:\tlearn: 0.5371451\ttotal: 1m 5s\tremaining: 2m 13s\n",
      "328:\tlearn: 0.5371175\ttotal: 1m 5s\tremaining: 2m 13s\n",
      "329:\tlearn: 0.5370800\ttotal: 1m 5s\tremaining: 2m 13s\n",
      "330:\tlearn: 0.5370374\ttotal: 1m 5s\tremaining: 2m 12s\n",
      "331:\tlearn: 0.5370106\ttotal: 1m 5s\tremaining: 2m 12s\n",
      "332:\tlearn: 0.5369716\ttotal: 1m 6s\tremaining: 2m 12s\n",
      "333:\tlearn: 0.5369266\ttotal: 1m 6s\tremaining: 2m 12s\n",
      "334:\tlearn: 0.5368906\ttotal: 1m 6s\tremaining: 2m 12s\n",
      "335:\tlearn: 0.5368553\ttotal: 1m 6s\tremaining: 2m 12s\n",
      "336:\tlearn: 0.5368314\ttotal: 1m 6s\tremaining: 2m 11s\n",
      "337:\tlearn: 0.5367945\ttotal: 1m 7s\tremaining: 2m 11s\n",
      "338:\tlearn: 0.5367598\ttotal: 1m 7s\tremaining: 2m 11s\n",
      "339:\tlearn: 0.5367108\ttotal: 1m 7s\tremaining: 2m 10s\n",
      "340:\tlearn: 0.5366687\ttotal: 1m 7s\tremaining: 2m 10s\n",
      "341:\tlearn: 0.5366143\ttotal: 1m 7s\tremaining: 2m 10s\n",
      "342:\tlearn: 0.5365811\ttotal: 1m 8s\tremaining: 2m 10s\n",
      "343:\tlearn: 0.5365397\ttotal: 1m 8s\tremaining: 2m 10s\n",
      "344:\tlearn: 0.5365181\ttotal: 1m 8s\tremaining: 2m 9s\n",
      "345:\tlearn: 0.5364746\ttotal: 1m 8s\tremaining: 2m 9s\n",
      "346:\tlearn: 0.5364465\ttotal: 1m 8s\tremaining: 2m 9s\n",
      "347:\tlearn: 0.5364128\ttotal: 1m 8s\tremaining: 2m 9s\n",
      "348:\tlearn: 0.5363800\ttotal: 1m 9s\tremaining: 2m 8s\n",
      "349:\tlearn: 0.5363446\ttotal: 1m 9s\tremaining: 2m 8s\n",
      "350:\tlearn: 0.5363013\ttotal: 1m 9s\tremaining: 2m 8s\n",
      "351:\tlearn: 0.5362714\ttotal: 1m 9s\tremaining: 2m 8s\n",
      "352:\tlearn: 0.5362193\ttotal: 1m 9s\tremaining: 2m 7s\n",
      "353:\tlearn: 0.5361712\ttotal: 1m 9s\tremaining: 2m 7s\n",
      "354:\tlearn: 0.5361279\ttotal: 1m 10s\tremaining: 2m 7s\n",
      "355:\tlearn: 0.5360920\ttotal: 1m 10s\tremaining: 2m 7s\n",
      "356:\tlearn: 0.5360536\ttotal: 1m 10s\tremaining: 2m 7s\n",
      "357:\tlearn: 0.5360214\ttotal: 1m 10s\tremaining: 2m 6s\n",
      "358:\tlearn: 0.5359777\ttotal: 1m 10s\tremaining: 2m 6s\n",
      "359:\tlearn: 0.5359500\ttotal: 1m 11s\tremaining: 2m 6s\n",
      "360:\tlearn: 0.5359246\ttotal: 1m 11s\tremaining: 2m 6s\n",
      "361:\tlearn: 0.5358875\ttotal: 1m 11s\tremaining: 2m 5s\n",
      "362:\tlearn: 0.5358528\ttotal: 1m 11s\tremaining: 2m 5s\n",
      "363:\tlearn: 0.5358287\ttotal: 1m 11s\tremaining: 2m 5s\n",
      "364:\tlearn: 0.5357919\ttotal: 1m 12s\tremaining: 2m 5s\n",
      "365:\tlearn: 0.5357613\ttotal: 1m 12s\tremaining: 2m 5s\n",
      "366:\tlearn: 0.5357124\ttotal: 1m 12s\tremaining: 2m 4s\n",
      "367:\tlearn: 0.5356787\ttotal: 1m 12s\tremaining: 2m 4s\n",
      "368:\tlearn: 0.5356371\ttotal: 1m 12s\tremaining: 2m 4s\n",
      "369:\tlearn: 0.5356017\ttotal: 1m 12s\tremaining: 2m 4s\n",
      "370:\tlearn: 0.5355640\ttotal: 1m 13s\tremaining: 2m 3s\n",
      "371:\tlearn: 0.5355230\ttotal: 1m 13s\tremaining: 2m 3s\n",
      "372:\tlearn: 0.5354841\ttotal: 1m 13s\tremaining: 2m 3s\n",
      "373:\tlearn: 0.5354299\ttotal: 1m 13s\tremaining: 2m 3s\n",
      "374:\tlearn: 0.5354029\ttotal: 1m 13s\tremaining: 2m 2s\n",
      "375:\tlearn: 0.5353737\ttotal: 1m 13s\tremaining: 2m 2s\n",
      "376:\tlearn: 0.5353520\ttotal: 1m 14s\tremaining: 2m 2s\n",
      "377:\tlearn: 0.5353096\ttotal: 1m 14s\tremaining: 2m 2s\n",
      "378:\tlearn: 0.5352767\ttotal: 1m 14s\tremaining: 2m 2s\n",
      "379:\tlearn: 0.5352440\ttotal: 1m 14s\tremaining: 2m 1s\n",
      "380:\tlearn: 0.5351997\ttotal: 1m 14s\tremaining: 2m 1s\n",
      "381:\tlearn: 0.5351690\ttotal: 1m 15s\tremaining: 2m 1s\n",
      "382:\tlearn: 0.5351394\ttotal: 1m 15s\tremaining: 2m 1s\n",
      "383:\tlearn: 0.5351069\ttotal: 1m 15s\tremaining: 2m\n",
      "384:\tlearn: 0.5350717\ttotal: 1m 15s\tremaining: 2m\n",
      "385:\tlearn: 0.5350446\ttotal: 1m 15s\tremaining: 2m\n",
      "386:\tlearn: 0.5350151\ttotal: 1m 16s\tremaining: 2m\n",
      "387:\tlearn: 0.5349802\ttotal: 1m 16s\tremaining: 2m\n",
      "388:\tlearn: 0.5349421\ttotal: 1m 16s\tremaining: 2m\n",
      "389:\tlearn: 0.5349101\ttotal: 1m 16s\tremaining: 1m 59s\n",
      "390:\tlearn: 0.5348673\ttotal: 1m 16s\tremaining: 1m 59s\n",
      "391:\tlearn: 0.5348350\ttotal: 1m 16s\tremaining: 1m 59s\n",
      "392:\tlearn: 0.5348145\ttotal: 1m 17s\tremaining: 1m 59s\n",
      "393:\tlearn: 0.5347807\ttotal: 1m 17s\tremaining: 1m 58s\n",
      "394:\tlearn: 0.5347288\ttotal: 1m 17s\tremaining: 1m 58s\n",
      "395:\tlearn: 0.5347049\ttotal: 1m 17s\tremaining: 1m 58s\n",
      "396:\tlearn: 0.5346639\ttotal: 1m 17s\tremaining: 1m 58s\n",
      "397:\tlearn: 0.5346298\ttotal: 1m 17s\tremaining: 1m 57s\n",
      "398:\tlearn: 0.5345939\ttotal: 1m 18s\tremaining: 1m 57s\n",
      "399:\tlearn: 0.5345466\ttotal: 1m 18s\tremaining: 1m 57s\n",
      "400:\tlearn: 0.5344952\ttotal: 1m 18s\tremaining: 1m 57s\n",
      "401:\tlearn: 0.5344607\ttotal: 1m 18s\tremaining: 1m 57s\n",
      "402:\tlearn: 0.5344278\ttotal: 1m 18s\tremaining: 1m 56s\n",
      "403:\tlearn: 0.5343934\ttotal: 1m 19s\tremaining: 1m 56s\n",
      "404:\tlearn: 0.5343451\ttotal: 1m 19s\tremaining: 1m 56s\n",
      "405:\tlearn: 0.5342973\ttotal: 1m 19s\tremaining: 1m 56s\n",
      "406:\tlearn: 0.5342655\ttotal: 1m 19s\tremaining: 1m 56s\n",
      "407:\tlearn: 0.5342110\ttotal: 1m 19s\tremaining: 1m 55s\n",
      "408:\tlearn: 0.5341745\ttotal: 1m 19s\tremaining: 1m 55s\n",
      "409:\tlearn: 0.5341553\ttotal: 1m 20s\tremaining: 1m 55s\n",
      "410:\tlearn: 0.5341251\ttotal: 1m 20s\tremaining: 1m 55s\n",
      "411:\tlearn: 0.5340997\ttotal: 1m 20s\tremaining: 1m 54s\n",
      "412:\tlearn: 0.5340602\ttotal: 1m 20s\tremaining: 1m 54s\n",
      "413:\tlearn: 0.5340155\ttotal: 1m 20s\tremaining: 1m 54s\n",
      "414:\tlearn: 0.5339750\ttotal: 1m 21s\tremaining: 1m 54s\n",
      "415:\tlearn: 0.5339319\ttotal: 1m 21s\tremaining: 1m 54s\n",
      "416:\tlearn: 0.5338962\ttotal: 1m 21s\tremaining: 1m 53s\n",
      "417:\tlearn: 0.5338611\ttotal: 1m 21s\tremaining: 1m 53s\n",
      "418:\tlearn: 0.5338206\ttotal: 1m 21s\tremaining: 1m 53s\n",
      "419:\tlearn: 0.5337836\ttotal: 1m 21s\tremaining: 1m 53s\n",
      "420:\tlearn: 0.5337463\ttotal: 1m 22s\tremaining: 1m 52s\n",
      "421:\tlearn: 0.5337137\ttotal: 1m 22s\tremaining: 1m 52s\n",
      "422:\tlearn: 0.5336741\ttotal: 1m 22s\tremaining: 1m 52s\n",
      "423:\tlearn: 0.5336323\ttotal: 1m 22s\tremaining: 1m 52s\n",
      "424:\tlearn: 0.5336046\ttotal: 1m 22s\tremaining: 1m 52s\n",
      "425:\tlearn: 0.5335620\ttotal: 1m 23s\tremaining: 1m 51s\n",
      "426:\tlearn: 0.5335149\ttotal: 1m 23s\tremaining: 1m 51s\n",
      "427:\tlearn: 0.5334762\ttotal: 1m 23s\tremaining: 1m 51s\n",
      "428:\tlearn: 0.5334471\ttotal: 1m 23s\tremaining: 1m 51s\n",
      "429:\tlearn: 0.5334163\ttotal: 1m 23s\tremaining: 1m 51s\n",
      "430:\tlearn: 0.5333857\ttotal: 1m 23s\tremaining: 1m 50s\n",
      "431:\tlearn: 0.5333508\ttotal: 1m 24s\tremaining: 1m 50s\n",
      "432:\tlearn: 0.5333025\ttotal: 1m 24s\tremaining: 1m 50s\n",
      "433:\tlearn: 0.5332627\ttotal: 1m 24s\tremaining: 1m 50s\n",
      "434:\tlearn: 0.5332270\ttotal: 1m 24s\tremaining: 1m 49s\n",
      "435:\tlearn: 0.5331852\ttotal: 1m 24s\tremaining: 1m 49s\n",
      "436:\tlearn: 0.5331382\ttotal: 1m 25s\tremaining: 1m 49s\n",
      "437:\tlearn: 0.5331094\ttotal: 1m 25s\tremaining: 1m 49s\n",
      "438:\tlearn: 0.5330696\ttotal: 1m 25s\tremaining: 1m 49s\n",
      "439:\tlearn: 0.5330340\ttotal: 1m 25s\tremaining: 1m 48s\n",
      "440:\tlearn: 0.5330002\ttotal: 1m 25s\tremaining: 1m 48s\n",
      "441:\tlearn: 0.5329560\ttotal: 1m 25s\tremaining: 1m 48s\n",
      "442:\tlearn: 0.5329198\ttotal: 1m 26s\tremaining: 1m 48s\n",
      "443:\tlearn: 0.5328896\ttotal: 1m 26s\tremaining: 1m 48s\n",
      "444:\tlearn: 0.5328457\ttotal: 1m 26s\tremaining: 1m 47s\n",
      "445:\tlearn: 0.5328179\ttotal: 1m 26s\tremaining: 1m 47s\n",
      "446:\tlearn: 0.5327771\ttotal: 1m 26s\tremaining: 1m 47s\n",
      "447:\tlearn: 0.5327350\ttotal: 1m 27s\tremaining: 1m 47s\n",
      "448:\tlearn: 0.5327121\ttotal: 1m 27s\tremaining: 1m 47s\n",
      "449:\tlearn: 0.5326888\ttotal: 1m 27s\tremaining: 1m 46s\n",
      "450:\tlearn: 0.5326580\ttotal: 1m 27s\tremaining: 1m 46s\n",
      "451:\tlearn: 0.5326301\ttotal: 1m 27s\tremaining: 1m 46s\n",
      "452:\tlearn: 0.5325994\ttotal: 1m 27s\tremaining: 1m 46s\n",
      "453:\tlearn: 0.5325537\ttotal: 1m 28s\tremaining: 1m 45s\n",
      "454:\tlearn: 0.5325204\ttotal: 1m 28s\tremaining: 1m 45s\n",
      "455:\tlearn: 0.5324759\ttotal: 1m 28s\tremaining: 1m 45s\n",
      "456:\tlearn: 0.5324489\ttotal: 1m 28s\tremaining: 1m 45s\n",
      "457:\tlearn: 0.5324152\ttotal: 1m 28s\tremaining: 1m 45s\n",
      "458:\tlearn: 0.5323836\ttotal: 1m 28s\tremaining: 1m 44s\n",
      "459:\tlearn: 0.5323414\ttotal: 1m 29s\tremaining: 1m 44s\n",
      "460:\tlearn: 0.5323005\ttotal: 1m 29s\tremaining: 1m 44s\n",
      "461:\tlearn: 0.5322513\ttotal: 1m 29s\tremaining: 1m 44s\n",
      "462:\tlearn: 0.5321929\ttotal: 1m 29s\tremaining: 1m 44s\n",
      "463:\tlearn: 0.5321693\ttotal: 1m 29s\tremaining: 1m 43s\n",
      "464:\tlearn: 0.5321389\ttotal: 1m 30s\tremaining: 1m 43s\n",
      "465:\tlearn: 0.5320979\ttotal: 1m 30s\tremaining: 1m 43s\n",
      "466:\tlearn: 0.5320651\ttotal: 1m 30s\tremaining: 1m 43s\n",
      "467:\tlearn: 0.5320116\ttotal: 1m 30s\tremaining: 1m 43s\n",
      "468:\tlearn: 0.5319881\ttotal: 1m 30s\tremaining: 1m 42s\n",
      "469:\tlearn: 0.5319439\ttotal: 1m 30s\tremaining: 1m 42s\n"
     ]
    },
    {
     "name": "stdout",
     "output_type": "stream",
     "text": [
      "470:\tlearn: 0.5319228\ttotal: 1m 31s\tremaining: 1m 42s\n",
      "471:\tlearn: 0.5318806\ttotal: 1m 31s\tremaining: 1m 42s\n",
      "472:\tlearn: 0.5318489\ttotal: 1m 31s\tremaining: 1m 41s\n",
      "473:\tlearn: 0.5318100\ttotal: 1m 31s\tremaining: 1m 41s\n",
      "474:\tlearn: 0.5317895\ttotal: 1m 31s\tremaining: 1m 41s\n",
      "475:\tlearn: 0.5317587\ttotal: 1m 32s\tremaining: 1m 41s\n",
      "476:\tlearn: 0.5317210\ttotal: 1m 32s\tremaining: 1m 41s\n",
      "477:\tlearn: 0.5316727\ttotal: 1m 32s\tremaining: 1m 40s\n",
      "478:\tlearn: 0.5316379\ttotal: 1m 32s\tremaining: 1m 40s\n",
      "479:\tlearn: 0.5316038\ttotal: 1m 32s\tremaining: 1m 40s\n",
      "480:\tlearn: 0.5315573\ttotal: 1m 32s\tremaining: 1m 40s\n",
      "481:\tlearn: 0.5315195\ttotal: 1m 33s\tremaining: 1m 40s\n",
      "482:\tlearn: 0.5314684\ttotal: 1m 33s\tremaining: 1m 39s\n",
      "483:\tlearn: 0.5314355\ttotal: 1m 33s\tremaining: 1m 39s\n",
      "484:\tlearn: 0.5313986\ttotal: 1m 33s\tremaining: 1m 39s\n",
      "485:\tlearn: 0.5313612\ttotal: 1m 33s\tremaining: 1m 39s\n",
      "486:\tlearn: 0.5313303\ttotal: 1m 33s\tremaining: 1m 39s\n",
      "487:\tlearn: 0.5312829\ttotal: 1m 34s\tremaining: 1m 38s\n",
      "488:\tlearn: 0.5312539\ttotal: 1m 34s\tremaining: 1m 38s\n",
      "489:\tlearn: 0.5312104\ttotal: 1m 34s\tremaining: 1m 38s\n",
      "490:\tlearn: 0.5311676\ttotal: 1m 34s\tremaining: 1m 38s\n",
      "491:\tlearn: 0.5311337\ttotal: 1m 34s\tremaining: 1m 37s\n",
      "492:\tlearn: 0.5310872\ttotal: 1m 35s\tremaining: 1m 37s\n",
      "493:\tlearn: 0.5310639\ttotal: 1m 35s\tremaining: 1m 37s\n",
      "494:\tlearn: 0.5310196\ttotal: 1m 35s\tremaining: 1m 37s\n",
      "495:\tlearn: 0.5309922\ttotal: 1m 35s\tremaining: 1m 37s\n",
      "496:\tlearn: 0.5309597\ttotal: 1m 35s\tremaining: 1m 36s\n",
      "497:\tlearn: 0.5309260\ttotal: 1m 35s\tremaining: 1m 36s\n",
      "498:\tlearn: 0.5309061\ttotal: 1m 36s\tremaining: 1m 36s\n",
      "499:\tlearn: 0.5307873\ttotal: 1m 36s\tremaining: 1m 36s\n",
      "500:\tlearn: 0.5307628\ttotal: 1m 36s\tremaining: 1m 36s\n",
      "501:\tlearn: 0.5307223\ttotal: 1m 36s\tremaining: 1m 35s\n",
      "502:\tlearn: 0.5306843\ttotal: 1m 36s\tremaining: 1m 35s\n",
      "503:\tlearn: 0.5306466\ttotal: 1m 37s\tremaining: 1m 35s\n",
      "504:\tlearn: 0.5306061\ttotal: 1m 37s\tremaining: 1m 35s\n",
      "505:\tlearn: 0.5305706\ttotal: 1m 37s\tremaining: 1m 35s\n",
      "506:\tlearn: 0.5305319\ttotal: 1m 37s\tremaining: 1m 34s\n",
      "507:\tlearn: 0.5304972\ttotal: 1m 37s\tremaining: 1m 34s\n",
      "508:\tlearn: 0.5304609\ttotal: 1m 37s\tremaining: 1m 34s\n",
      "509:\tlearn: 0.5304110\ttotal: 1m 38s\tremaining: 1m 34s\n",
      "510:\tlearn: 0.5303753\ttotal: 1m 38s\tremaining: 1m 34s\n",
      "511:\tlearn: 0.5303436\ttotal: 1m 38s\tremaining: 1m 33s\n",
      "512:\tlearn: 0.5302912\ttotal: 1m 38s\tremaining: 1m 33s\n",
      "513:\tlearn: 0.5302572\ttotal: 1m 38s\tremaining: 1m 33s\n",
      "514:\tlearn: 0.5302307\ttotal: 1m 38s\tremaining: 1m 33s\n",
      "515:\tlearn: 0.5301798\ttotal: 1m 39s\tremaining: 1m 33s\n",
      "516:\tlearn: 0.5301416\ttotal: 1m 39s\tremaining: 1m 32s\n",
      "517:\tlearn: 0.5300994\ttotal: 1m 39s\tremaining: 1m 32s\n",
      "518:\tlearn: 0.5300591\ttotal: 1m 39s\tremaining: 1m 32s\n",
      "519:\tlearn: 0.5300296\ttotal: 1m 39s\tremaining: 1m 32s\n",
      "520:\tlearn: 0.5300003\ttotal: 1m 40s\tremaining: 1m 31s\n",
      "521:\tlearn: 0.5299790\ttotal: 1m 40s\tremaining: 1m 31s\n",
      "522:\tlearn: 0.5299471\ttotal: 1m 40s\tremaining: 1m 31s\n",
      "523:\tlearn: 0.5299147\ttotal: 1m 40s\tremaining: 1m 31s\n",
      "524:\tlearn: 0.5298845\ttotal: 1m 40s\tremaining: 1m 31s\n",
      "525:\tlearn: 0.5298509\ttotal: 1m 40s\tremaining: 1m 30s\n",
      "526:\tlearn: 0.5298286\ttotal: 1m 41s\tremaining: 1m 30s\n",
      "527:\tlearn: 0.5297927\ttotal: 1m 41s\tremaining: 1m 30s\n",
      "528:\tlearn: 0.5297562\ttotal: 1m 41s\tremaining: 1m 30s\n",
      "529:\tlearn: 0.5297358\ttotal: 1m 41s\tremaining: 1m 30s\n",
      "530:\tlearn: 0.5296984\ttotal: 1m 41s\tremaining: 1m 29s\n",
      "531:\tlearn: 0.5296678\ttotal: 1m 41s\tremaining: 1m 29s\n",
      "532:\tlearn: 0.5296385\ttotal: 1m 42s\tremaining: 1m 29s\n",
      "533:\tlearn: 0.5296127\ttotal: 1m 42s\tremaining: 1m 29s\n",
      "534:\tlearn: 0.5295790\ttotal: 1m 42s\tremaining: 1m 29s\n",
      "535:\tlearn: 0.5295489\ttotal: 1m 42s\tremaining: 1m 28s\n",
      "536:\tlearn: 0.5295187\ttotal: 1m 42s\tremaining: 1m 28s\n",
      "537:\tlearn: 0.5294822\ttotal: 1m 43s\tremaining: 1m 28s\n",
      "538:\tlearn: 0.5294560\ttotal: 1m 43s\tremaining: 1m 28s\n",
      "539:\tlearn: 0.5294245\ttotal: 1m 43s\tremaining: 1m 28s\n",
      "540:\tlearn: 0.5293855\ttotal: 1m 43s\tremaining: 1m 27s\n",
      "541:\tlearn: 0.5293566\ttotal: 1m 43s\tremaining: 1m 27s\n",
      "542:\tlearn: 0.5293200\ttotal: 1m 43s\tremaining: 1m 27s\n",
      "543:\tlearn: 0.5292830\ttotal: 1m 44s\tremaining: 1m 27s\n",
      "544:\tlearn: 0.5292521\ttotal: 1m 44s\tremaining: 1m 27s\n",
      "545:\tlearn: 0.5292154\ttotal: 1m 44s\tremaining: 1m 26s\n",
      "546:\tlearn: 0.5291696\ttotal: 1m 44s\tremaining: 1m 26s\n",
      "547:\tlearn: 0.5291368\ttotal: 1m 44s\tremaining: 1m 26s\n",
      "548:\tlearn: 0.5290947\ttotal: 1m 45s\tremaining: 1m 26s\n",
      "549:\tlearn: 0.5290563\ttotal: 1m 45s\tremaining: 1m 26s\n",
      "550:\tlearn: 0.5290273\ttotal: 1m 45s\tremaining: 1m 25s\n",
      "551:\tlearn: 0.5289868\ttotal: 1m 45s\tremaining: 1m 25s\n",
      "552:\tlearn: 0.5289508\ttotal: 1m 45s\tremaining: 1m 25s\n",
      "553:\tlearn: 0.5289108\ttotal: 1m 45s\tremaining: 1m 25s\n",
      "554:\tlearn: 0.5288773\ttotal: 1m 46s\tremaining: 1m 25s\n",
      "555:\tlearn: 0.5288561\ttotal: 1m 46s\tremaining: 1m 24s\n",
      "556:\tlearn: 0.5288277\ttotal: 1m 46s\tremaining: 1m 24s\n",
      "557:\tlearn: 0.5287983\ttotal: 1m 46s\tremaining: 1m 24s\n",
      "558:\tlearn: 0.5287618\ttotal: 1m 46s\tremaining: 1m 24s\n",
      "559:\tlearn: 0.5287353\ttotal: 1m 47s\tremaining: 1m 24s\n",
      "560:\tlearn: 0.5287008\ttotal: 1m 47s\tremaining: 1m 23s\n",
      "561:\tlearn: 0.5286631\ttotal: 1m 47s\tremaining: 1m 23s\n",
      "562:\tlearn: 0.5286249\ttotal: 1m 47s\tremaining: 1m 23s\n",
      "563:\tlearn: 0.5285910\ttotal: 1m 47s\tremaining: 1m 23s\n",
      "564:\tlearn: 0.5285643\ttotal: 1m 47s\tremaining: 1m 23s\n",
      "565:\tlearn: 0.5285299\ttotal: 1m 48s\tremaining: 1m 22s\n",
      "566:\tlearn: 0.5285135\ttotal: 1m 48s\tremaining: 1m 22s\n",
      "567:\tlearn: 0.5284841\ttotal: 1m 48s\tremaining: 1m 22s\n",
      "568:\tlearn: 0.5284657\ttotal: 1m 48s\tremaining: 1m 22s\n",
      "569:\tlearn: 0.5284379\ttotal: 1m 48s\tremaining: 1m 22s\n",
      "570:\tlearn: 0.5284011\ttotal: 1m 48s\tremaining: 1m 21s\n",
      "571:\tlearn: 0.5283815\ttotal: 1m 49s\tremaining: 1m 21s\n",
      "572:\tlearn: 0.5283399\ttotal: 1m 49s\tremaining: 1m 21s\n",
      "573:\tlearn: 0.5283060\ttotal: 1m 49s\tremaining: 1m 21s\n",
      "574:\tlearn: 0.5282850\ttotal: 1m 49s\tremaining: 1m 21s\n",
      "575:\tlearn: 0.5282373\ttotal: 1m 49s\tremaining: 1m 20s\n",
      "576:\tlearn: 0.5282125\ttotal: 1m 50s\tremaining: 1m 20s\n",
      "577:\tlearn: 0.5281913\ttotal: 1m 50s\tremaining: 1m 20s\n",
      "578:\tlearn: 0.5281645\ttotal: 1m 50s\tremaining: 1m 20s\n",
      "579:\tlearn: 0.5281275\ttotal: 1m 50s\tremaining: 1m 20s\n",
      "580:\tlearn: 0.5280915\ttotal: 1m 50s\tremaining: 1m 19s\n",
      "581:\tlearn: 0.5280572\ttotal: 1m 51s\tremaining: 1m 19s\n",
      "582:\tlearn: 0.5280290\ttotal: 1m 51s\tremaining: 1m 19s\n",
      "583:\tlearn: 0.5280023\ttotal: 1m 51s\tremaining: 1m 19s\n",
      "584:\tlearn: 0.5279530\ttotal: 1m 51s\tremaining: 1m 19s\n",
      "585:\tlearn: 0.5279185\ttotal: 1m 51s\tremaining: 1m 18s\n",
      "586:\tlearn: 0.5278875\ttotal: 1m 51s\tremaining: 1m 18s\n",
      "587:\tlearn: 0.5278589\ttotal: 1m 52s\tremaining: 1m 18s\n",
      "588:\tlearn: 0.5278264\ttotal: 1m 52s\tremaining: 1m 18s\n",
      "589:\tlearn: 0.5278019\ttotal: 1m 52s\tremaining: 1m 18s\n",
      "590:\tlearn: 0.5277825\ttotal: 1m 52s\tremaining: 1m 17s\n",
      "591:\tlearn: 0.5277416\ttotal: 1m 52s\tremaining: 1m 17s\n",
      "592:\tlearn: 0.5277036\ttotal: 1m 53s\tremaining: 1m 17s\n",
      "593:\tlearn: 0.5276664\ttotal: 1m 53s\tremaining: 1m 17s\n",
      "594:\tlearn: 0.5276384\ttotal: 1m 53s\tremaining: 1m 17s\n",
      "595:\tlearn: 0.5276159\ttotal: 1m 53s\tremaining: 1m 17s\n",
      "596:\tlearn: 0.5275674\ttotal: 1m 53s\tremaining: 1m 16s\n",
      "597:\tlearn: 0.5275343\ttotal: 1m 53s\tremaining: 1m 16s\n",
      "598:\tlearn: 0.5275010\ttotal: 1m 54s\tremaining: 1m 16s\n",
      "599:\tlearn: 0.5274680\ttotal: 1m 54s\tremaining: 1m 16s\n",
      "600:\tlearn: 0.5274349\ttotal: 1m 54s\tremaining: 1m 16s\n",
      "601:\tlearn: 0.5273972\ttotal: 1m 54s\tremaining: 1m 15s\n",
      "602:\tlearn: 0.5273783\ttotal: 1m 54s\tremaining: 1m 15s\n",
      "603:\tlearn: 0.5273598\ttotal: 1m 55s\tremaining: 1m 15s\n",
      "604:\tlearn: 0.5273359\ttotal: 1m 55s\tremaining: 1m 15s\n",
      "605:\tlearn: 0.5273110\ttotal: 1m 55s\tremaining: 1m 15s\n",
      "606:\tlearn: 0.5272743\ttotal: 1m 55s\tremaining: 1m 14s\n",
      "607:\tlearn: 0.5272441\ttotal: 1m 55s\tremaining: 1m 14s\n",
      "608:\tlearn: 0.5272051\ttotal: 1m 55s\tremaining: 1m 14s\n",
      "609:\tlearn: 0.5271761\ttotal: 1m 56s\tremaining: 1m 14s\n",
      "610:\tlearn: 0.5271489\ttotal: 1m 56s\tremaining: 1m 14s\n",
      "611:\tlearn: 0.5271206\ttotal: 1m 56s\tremaining: 1m 13s\n",
      "612:\tlearn: 0.5270892\ttotal: 1m 56s\tremaining: 1m 13s\n",
      "613:\tlearn: 0.5270624\ttotal: 1m 56s\tremaining: 1m 13s\n",
      "614:\tlearn: 0.5270310\ttotal: 1m 57s\tremaining: 1m 13s\n",
      "615:\tlearn: 0.5269957\ttotal: 1m 57s\tremaining: 1m 13s\n",
      "616:\tlearn: 0.5269708\ttotal: 1m 58s\tremaining: 1m 13s\n",
      "617:\tlearn: 0.5269398\ttotal: 1m 58s\tremaining: 1m 13s\n",
      "618:\tlearn: 0.5268951\ttotal: 1m 58s\tremaining: 1m 12s\n",
      "619:\tlearn: 0.5268611\ttotal: 1m 58s\tremaining: 1m 12s\n",
      "620:\tlearn: 0.5268243\ttotal: 1m 59s\tremaining: 1m 12s\n",
      "621:\tlearn: 0.5267907\ttotal: 1m 59s\tremaining: 1m 12s\n"
     ]
    },
    {
     "name": "stdout",
     "output_type": "stream",
     "text": [
      "622:\tlearn: 0.5267486\ttotal: 1m 59s\tremaining: 1m 12s\n",
      "623:\tlearn: 0.5267202\ttotal: 1m 59s\tremaining: 1m 12s\n",
      "624:\tlearn: 0.5266829\ttotal: 2m\tremaining: 1m 12s\n",
      "625:\tlearn: 0.5266492\ttotal: 2m\tremaining: 1m 11s\n",
      "626:\tlearn: 0.5266107\ttotal: 2m\tremaining: 1m 11s\n",
      "627:\tlearn: 0.5265894\ttotal: 2m\tremaining: 1m 11s\n",
      "628:\tlearn: 0.5265453\ttotal: 2m\tremaining: 1m 11s\n",
      "629:\tlearn: 0.5265125\ttotal: 2m 1s\tremaining: 1m 11s\n",
      "630:\tlearn: 0.5264746\ttotal: 2m 1s\tremaining: 1m 10s\n",
      "631:\tlearn: 0.5264517\ttotal: 2m 1s\tremaining: 1m 10s\n",
      "632:\tlearn: 0.5264179\ttotal: 2m 2s\tremaining: 1m 10s\n",
      "633:\tlearn: 0.5263798\ttotal: 2m 2s\tremaining: 1m 10s\n",
      "634:\tlearn: 0.5263495\ttotal: 2m 2s\tremaining: 1m 10s\n",
      "635:\tlearn: 0.5263199\ttotal: 2m 2s\tremaining: 1m 10s\n",
      "636:\tlearn: 0.5262933\ttotal: 2m 3s\tremaining: 1m 10s\n",
      "637:\tlearn: 0.5262650\ttotal: 2m 3s\tremaining: 1m 9s\n",
      "638:\tlearn: 0.5262287\ttotal: 2m 3s\tremaining: 1m 9s\n",
      "639:\tlearn: 0.5261953\ttotal: 2m 3s\tremaining: 1m 9s\n",
      "640:\tlearn: 0.5261618\ttotal: 2m 3s\tremaining: 1m 9s\n",
      "641:\tlearn: 0.5261317\ttotal: 2m 4s\tremaining: 1m 9s\n",
      "642:\tlearn: 0.5261032\ttotal: 2m 4s\tremaining: 1m 8s\n",
      "643:\tlearn: 0.5260710\ttotal: 2m 4s\tremaining: 1m 8s\n",
      "644:\tlearn: 0.5260458\ttotal: 2m 4s\tremaining: 1m 8s\n",
      "645:\tlearn: 0.5260027\ttotal: 2m 4s\tremaining: 1m 8s\n",
      "646:\tlearn: 0.5259688\ttotal: 2m 4s\tremaining: 1m 8s\n",
      "647:\tlearn: 0.5259342\ttotal: 2m 5s\tremaining: 1m 7s\n",
      "648:\tlearn: 0.5259133\ttotal: 2m 5s\tremaining: 1m 7s\n",
      "649:\tlearn: 0.5258891\ttotal: 2m 5s\tremaining: 1m 7s\n",
      "650:\tlearn: 0.5258573\ttotal: 2m 5s\tremaining: 1m 7s\n",
      "651:\tlearn: 0.5258367\ttotal: 2m 5s\tremaining: 1m 7s\n",
      "652:\tlearn: 0.5258099\ttotal: 2m 6s\tremaining: 1m 6s\n",
      "653:\tlearn: 0.5257884\ttotal: 2m 6s\tremaining: 1m 6s\n",
      "654:\tlearn: 0.5257559\ttotal: 2m 6s\tremaining: 1m 6s\n",
      "655:\tlearn: 0.5257253\ttotal: 2m 6s\tremaining: 1m 6s\n",
      "656:\tlearn: 0.5256875\ttotal: 2m 6s\tremaining: 1m 6s\n",
      "657:\tlearn: 0.5256692\ttotal: 2m 6s\tremaining: 1m 5s\n",
      "658:\tlearn: 0.5256326\ttotal: 2m 7s\tremaining: 1m 5s\n",
      "659:\tlearn: 0.5256040\ttotal: 2m 7s\tremaining: 1m 5s\n",
      "660:\tlearn: 0.5255685\ttotal: 2m 7s\tremaining: 1m 5s\n",
      "661:\tlearn: 0.5255412\ttotal: 2m 7s\tremaining: 1m 5s\n",
      "662:\tlearn: 0.5255209\ttotal: 2m 7s\tremaining: 1m 4s\n",
      "663:\tlearn: 0.5254868\ttotal: 2m 8s\tremaining: 1m 4s\n",
      "664:\tlearn: 0.5254579\ttotal: 2m 8s\tremaining: 1m 4s\n",
      "665:\tlearn: 0.5254250\ttotal: 2m 8s\tremaining: 1m 4s\n",
      "666:\tlearn: 0.5253932\ttotal: 2m 8s\tremaining: 1m 4s\n",
      "667:\tlearn: 0.5253564\ttotal: 2m 8s\tremaining: 1m 4s\n",
      "668:\tlearn: 0.5253304\ttotal: 2m 9s\tremaining: 1m 3s\n",
      "669:\tlearn: 0.5253013\ttotal: 2m 9s\tremaining: 1m 3s\n",
      "670:\tlearn: 0.5252726\ttotal: 2m 9s\tremaining: 1m 3s\n",
      "671:\tlearn: 0.5252376\ttotal: 2m 9s\tremaining: 1m 3s\n",
      "672:\tlearn: 0.5252096\ttotal: 2m 9s\tremaining: 1m 3s\n",
      "673:\tlearn: 0.5251962\ttotal: 2m 10s\tremaining: 1m 2s\n",
      "674:\tlearn: 0.5251679\ttotal: 2m 10s\tremaining: 1m 2s\n",
      "675:\tlearn: 0.5251446\ttotal: 2m 10s\tremaining: 1m 2s\n",
      "676:\tlearn: 0.5251200\ttotal: 2m 10s\tremaining: 1m 2s\n",
      "677:\tlearn: 0.5250796\ttotal: 2m 10s\tremaining: 1m 2s\n",
      "678:\tlearn: 0.5250554\ttotal: 2m 11s\tremaining: 1m 1s\n",
      "679:\tlearn: 0.5250192\ttotal: 2m 11s\tremaining: 1m 1s\n",
      "680:\tlearn: 0.5249830\ttotal: 2m 11s\tremaining: 1m 1s\n",
      "681:\tlearn: 0.5249583\ttotal: 2m 11s\tremaining: 1m 1s\n",
      "682:\tlearn: 0.5249345\ttotal: 2m 11s\tremaining: 1m 1s\n",
      "683:\tlearn: 0.5248979\ttotal: 2m 11s\tremaining: 1m\n",
      "684:\tlearn: 0.5248649\ttotal: 2m 12s\tremaining: 1m\n",
      "685:\tlearn: 0.5248331\ttotal: 2m 12s\tremaining: 1m\n",
      "686:\tlearn: 0.5248051\ttotal: 2m 12s\tremaining: 1m\n",
      "687:\tlearn: 0.5247804\ttotal: 2m 12s\tremaining: 1m\n",
      "688:\tlearn: 0.5247478\ttotal: 2m 12s\tremaining: 59.9s\n",
      "689:\tlearn: 0.5247076\ttotal: 2m 13s\tremaining: 59.8s\n",
      "690:\tlearn: 0.5246745\ttotal: 2m 13s\tremaining: 59.6s\n",
      "691:\tlearn: 0.5246369\ttotal: 2m 13s\tremaining: 59.4s\n",
      "692:\tlearn: 0.5246025\ttotal: 2m 13s\tremaining: 59.1s\n",
      "693:\tlearn: 0.5245802\ttotal: 2m 13s\tremaining: 58.9s\n",
      "694:\tlearn: 0.5245421\ttotal: 2m 13s\tremaining: 58.7s\n",
      "695:\tlearn: 0.5245065\ttotal: 2m 14s\tremaining: 58.6s\n",
      "696:\tlearn: 0.5244768\ttotal: 2m 14s\tremaining: 58.4s\n",
      "697:\tlearn: 0.5244548\ttotal: 2m 14s\tremaining: 58.2s\n",
      "698:\tlearn: 0.5244386\ttotal: 2m 14s\tremaining: 58s\n",
      "699:\tlearn: 0.5244093\ttotal: 2m 14s\tremaining: 57.8s\n",
      "700:\tlearn: 0.5243731\ttotal: 2m 14s\tremaining: 57.6s\n",
      "701:\tlearn: 0.5243326\ttotal: 2m 15s\tremaining: 57.4s\n",
      "702:\tlearn: 0.5242969\ttotal: 2m 15s\tremaining: 57.2s\n",
      "703:\tlearn: 0.5242702\ttotal: 2m 15s\tremaining: 57s\n",
      "704:\tlearn: 0.5242462\ttotal: 2m 15s\tremaining: 56.8s\n",
      "705:\tlearn: 0.5241997\ttotal: 2m 15s\tremaining: 56.6s\n",
      "706:\tlearn: 0.5241652\ttotal: 2m 16s\tremaining: 56.4s\n",
      "707:\tlearn: 0.5241441\ttotal: 2m 16s\tremaining: 56.2s\n",
      "708:\tlearn: 0.5241131\ttotal: 2m 16s\tremaining: 56s\n",
      "709:\tlearn: 0.5240819\ttotal: 2m 16s\tremaining: 55.8s\n",
      "710:\tlearn: 0.5240519\ttotal: 2m 16s\tremaining: 55.6s\n",
      "711:\tlearn: 0.5240283\ttotal: 2m 16s\tremaining: 55.4s\n",
      "712:\tlearn: 0.5239936\ttotal: 2m 17s\tremaining: 55.2s\n",
      "713:\tlearn: 0.5239619\ttotal: 2m 17s\tremaining: 55.1s\n",
      "714:\tlearn: 0.5239332\ttotal: 2m 17s\tremaining: 54.9s\n",
      "715:\tlearn: 0.5239045\ttotal: 2m 17s\tremaining: 54.7s\n",
      "716:\tlearn: 0.5238820\ttotal: 2m 18s\tremaining: 54.5s\n",
      "717:\tlearn: 0.5238558\ttotal: 2m 18s\tremaining: 54.3s\n",
      "718:\tlearn: 0.5238351\ttotal: 2m 18s\tremaining: 54.1s\n",
      "719:\tlearn: 0.5238147\ttotal: 2m 18s\tremaining: 53.9s\n",
      "720:\tlearn: 0.5237808\ttotal: 2m 18s\tremaining: 53.7s\n",
      "721:\tlearn: 0.5237454\ttotal: 2m 18s\tremaining: 53.5s\n",
      "722:\tlearn: 0.5237101\ttotal: 2m 19s\tremaining: 53.3s\n",
      "723:\tlearn: 0.5236784\ttotal: 2m 19s\tremaining: 53.1s\n",
      "724:\tlearn: 0.5236456\ttotal: 2m 19s\tremaining: 52.9s\n",
      "725:\tlearn: 0.5236117\ttotal: 2m 19s\tremaining: 52.7s\n",
      "726:\tlearn: 0.5235813\ttotal: 2m 19s\tremaining: 52.5s\n",
      "727:\tlearn: 0.5235527\ttotal: 2m 19s\tremaining: 52.3s\n",
      "728:\tlearn: 0.5235178\ttotal: 2m 20s\tremaining: 52.1s\n",
      "729:\tlearn: 0.5234871\ttotal: 2m 20s\tremaining: 51.9s\n",
      "730:\tlearn: 0.5234618\ttotal: 2m 20s\tremaining: 51.7s\n",
      "731:\tlearn: 0.5234398\ttotal: 2m 20s\tremaining: 51.5s\n",
      "732:\tlearn: 0.5234064\ttotal: 2m 20s\tremaining: 51.3s\n",
      "733:\tlearn: 0.5233758\ttotal: 2m 21s\tremaining: 51.1s\n",
      "734:\tlearn: 0.5233453\ttotal: 2m 21s\tremaining: 50.9s\n",
      "735:\tlearn: 0.5233267\ttotal: 2m 21s\tremaining: 50.7s\n",
      "736:\tlearn: 0.5233000\ttotal: 2m 21s\tremaining: 50.5s\n",
      "737:\tlearn: 0.5232604\ttotal: 2m 21s\tremaining: 50.3s\n",
      "738:\tlearn: 0.5232330\ttotal: 2m 21s\tremaining: 50.1s\n",
      "739:\tlearn: 0.5231826\ttotal: 2m 22s\tremaining: 49.9s\n",
      "740:\tlearn: 0.5231502\ttotal: 2m 22s\tremaining: 49.7s\n",
      "741:\tlearn: 0.5231220\ttotal: 2m 22s\tremaining: 49.5s\n",
      "742:\tlearn: 0.5231015\ttotal: 2m 22s\tremaining: 49.4s\n",
      "743:\tlearn: 0.5230741\ttotal: 2m 22s\tremaining: 49.2s\n",
      "744:\tlearn: 0.5230403\ttotal: 2m 23s\tremaining: 49s\n",
      "745:\tlearn: 0.5230141\ttotal: 2m 23s\tremaining: 48.8s\n",
      "746:\tlearn: 0.5229919\ttotal: 2m 23s\tremaining: 48.6s\n",
      "747:\tlearn: 0.5229534\ttotal: 2m 23s\tremaining: 48.4s\n",
      "748:\tlearn: 0.5229240\ttotal: 2m 23s\tremaining: 48.2s\n",
      "749:\tlearn: 0.5229038\ttotal: 2m 23s\tremaining: 48s\n",
      "750:\tlearn: 0.5228846\ttotal: 2m 24s\tremaining: 47.8s\n",
      "751:\tlearn: 0.5228386\ttotal: 2m 24s\tremaining: 47.6s\n",
      "752:\tlearn: 0.5228078\ttotal: 2m 24s\tremaining: 47.4s\n",
      "753:\tlearn: 0.5227761\ttotal: 2m 24s\tremaining: 47.2s\n",
      "754:\tlearn: 0.5227530\ttotal: 2m 24s\tremaining: 47s\n",
      "755:\tlearn: 0.5227201\ttotal: 2m 25s\tremaining: 46.8s\n",
      "756:\tlearn: 0.5226848\ttotal: 2m 25s\tremaining: 46.6s\n",
      "757:\tlearn: 0.5226493\ttotal: 2m 25s\tremaining: 46.4s\n",
      "758:\tlearn: 0.5226196\ttotal: 2m 25s\tremaining: 46.2s\n",
      "759:\tlearn: 0.5225937\ttotal: 2m 25s\tremaining: 46s\n",
      "760:\tlearn: 0.5225566\ttotal: 2m 25s\tremaining: 45.8s\n",
      "761:\tlearn: 0.5225297\ttotal: 2m 26s\tremaining: 45.6s\n",
      "762:\tlearn: 0.5224975\ttotal: 2m 26s\tremaining: 45.4s\n",
      "763:\tlearn: 0.5224628\ttotal: 2m 26s\tremaining: 45.2s\n",
      "764:\tlearn: 0.5224346\ttotal: 2m 26s\tremaining: 45s\n",
      "765:\tlearn: 0.5224066\ttotal: 2m 26s\tremaining: 44.8s\n",
      "766:\tlearn: 0.5223815\ttotal: 2m 26s\tremaining: 44.6s\n",
      "767:\tlearn: 0.5223422\ttotal: 2m 27s\tremaining: 44.5s\n",
      "768:\tlearn: 0.5223139\ttotal: 2m 27s\tremaining: 44.3s\n",
      "769:\tlearn: 0.5222806\ttotal: 2m 27s\tremaining: 44.1s\n",
      "770:\tlearn: 0.5222543\ttotal: 2m 27s\tremaining: 43.9s\n",
      "771:\tlearn: 0.5222245\ttotal: 2m 27s\tremaining: 43.7s\n",
      "772:\tlearn: 0.5221945\ttotal: 2m 28s\tremaining: 43.5s\n",
      "773:\tlearn: 0.5221639\ttotal: 2m 28s\tremaining: 43.3s\n",
      "774:\tlearn: 0.5221503\ttotal: 2m 28s\tremaining: 43.1s\n",
      "775:\tlearn: 0.5221234\ttotal: 2m 28s\tremaining: 42.9s\n",
      "776:\tlearn: 0.5220891\ttotal: 2m 28s\tremaining: 42.7s\n",
      "777:\tlearn: 0.5220643\ttotal: 2m 28s\tremaining: 42.5s\n",
      "778:\tlearn: 0.5220315\ttotal: 2m 29s\tremaining: 42.3s\n"
     ]
    },
    {
     "name": "stdout",
     "output_type": "stream",
     "text": [
      "779:\tlearn: 0.5219944\ttotal: 2m 29s\tremaining: 42.1s\n",
      "780:\tlearn: 0.5219565\ttotal: 2m 29s\tremaining: 41.9s\n",
      "781:\tlearn: 0.5219327\ttotal: 2m 29s\tremaining: 41.7s\n",
      "782:\tlearn: 0.5219022\ttotal: 2m 29s\tremaining: 41.5s\n",
      "783:\tlearn: 0.5218727\ttotal: 2m 30s\tremaining: 41.3s\n",
      "784:\tlearn: 0.5218492\ttotal: 2m 30s\tremaining: 41.1s\n",
      "785:\tlearn: 0.5218126\ttotal: 2m 30s\tremaining: 41s\n",
      "786:\tlearn: 0.5217861\ttotal: 2m 30s\tremaining: 40.8s\n",
      "787:\tlearn: 0.5217625\ttotal: 2m 30s\tremaining: 40.6s\n",
      "788:\tlearn: 0.5217346\ttotal: 2m 30s\tremaining: 40.4s\n",
      "789:\tlearn: 0.5217115\ttotal: 2m 31s\tremaining: 40.2s\n",
      "790:\tlearn: 0.5216857\ttotal: 2m 31s\tremaining: 40s\n",
      "791:\tlearn: 0.5216467\ttotal: 2m 31s\tremaining: 39.8s\n",
      "792:\tlearn: 0.5216117\ttotal: 2m 31s\tremaining: 39.6s\n",
      "793:\tlearn: 0.5215856\ttotal: 2m 31s\tremaining: 39.4s\n",
      "794:\tlearn: 0.5215630\ttotal: 2m 32s\tremaining: 39.2s\n",
      "795:\tlearn: 0.5215205\ttotal: 2m 32s\tremaining: 39s\n",
      "796:\tlearn: 0.5214902\ttotal: 2m 32s\tremaining: 38.8s\n",
      "797:\tlearn: 0.5214587\ttotal: 2m 32s\tremaining: 38.6s\n",
      "798:\tlearn: 0.5214329\ttotal: 2m 32s\tremaining: 38.4s\n",
      "799:\tlearn: 0.5213950\ttotal: 2m 32s\tremaining: 38.2s\n",
      "800:\tlearn: 0.5213642\ttotal: 2m 33s\tremaining: 38s\n",
      "801:\tlearn: 0.5213269\ttotal: 2m 33s\tremaining: 37.8s\n",
      "802:\tlearn: 0.5212879\ttotal: 2m 33s\tremaining: 37.6s\n",
      "803:\tlearn: 0.5212604\ttotal: 2m 33s\tremaining: 37.5s\n",
      "804:\tlearn: 0.5212236\ttotal: 2m 33s\tremaining: 37.2s\n",
      "805:\tlearn: 0.5212004\ttotal: 2m 33s\tremaining: 37.1s\n",
      "806:\tlearn: 0.5211601\ttotal: 2m 34s\tremaining: 36.9s\n",
      "807:\tlearn: 0.5211262\ttotal: 2m 34s\tremaining: 36.7s\n",
      "808:\tlearn: 0.5210927\ttotal: 2m 34s\tremaining: 36.5s\n",
      "809:\tlearn: 0.5210629\ttotal: 2m 34s\tremaining: 36.3s\n",
      "810:\tlearn: 0.5210327\ttotal: 2m 34s\tremaining: 36.1s\n",
      "811:\tlearn: 0.5210050\ttotal: 2m 35s\tremaining: 35.9s\n",
      "812:\tlearn: 0.5209851\ttotal: 2m 35s\tremaining: 35.7s\n",
      "813:\tlearn: 0.5209471\ttotal: 2m 35s\tremaining: 35.5s\n",
      "814:\tlearn: 0.5209284\ttotal: 2m 35s\tremaining: 35.3s\n",
      "815:\tlearn: 0.5209099\ttotal: 2m 35s\tremaining: 35.1s\n",
      "816:\tlearn: 0.5208761\ttotal: 2m 35s\tremaining: 34.9s\n",
      "817:\tlearn: 0.5208462\ttotal: 2m 36s\tremaining: 34.7s\n",
      "818:\tlearn: 0.5208256\ttotal: 2m 36s\tremaining: 34.5s\n",
      "819:\tlearn: 0.5207977\ttotal: 2m 36s\tremaining: 34.3s\n",
      "820:\tlearn: 0.5207718\ttotal: 2m 36s\tremaining: 34.1s\n",
      "821:\tlearn: 0.5207416\ttotal: 2m 36s\tremaining: 34s\n",
      "822:\tlearn: 0.5207130\ttotal: 2m 36s\tremaining: 33.8s\n",
      "823:\tlearn: 0.5206920\ttotal: 2m 37s\tremaining: 33.6s\n",
      "824:\tlearn: 0.5206698\ttotal: 2m 37s\tremaining: 33.4s\n",
      "825:\tlearn: 0.5206366\ttotal: 2m 37s\tremaining: 33.2s\n",
      "826:\tlearn: 0.5206160\ttotal: 2m 37s\tremaining: 33s\n",
      "827:\tlearn: 0.5205833\ttotal: 2m 37s\tremaining: 32.8s\n",
      "828:\tlearn: 0.5205580\ttotal: 2m 38s\tremaining: 32.6s\n",
      "829:\tlearn: 0.5205144\ttotal: 2m 38s\tremaining: 32.4s\n",
      "830:\tlearn: 0.5204976\ttotal: 2m 38s\tremaining: 32.2s\n",
      "831:\tlearn: 0.5204734\ttotal: 2m 38s\tremaining: 32s\n",
      "832:\tlearn: 0.5204330\ttotal: 2m 38s\tremaining: 31.8s\n",
      "833:\tlearn: 0.5204166\ttotal: 2m 38s\tremaining: 31.6s\n",
      "834:\tlearn: 0.5203905\ttotal: 2m 39s\tremaining: 31.4s\n",
      "835:\tlearn: 0.5203629\ttotal: 2m 39s\tremaining: 31.2s\n",
      "836:\tlearn: 0.5203371\ttotal: 2m 39s\tremaining: 31.1s\n",
      "837:\tlearn: 0.5203017\ttotal: 2m 39s\tremaining: 30.9s\n",
      "838:\tlearn: 0.5202709\ttotal: 2m 39s\tremaining: 30.7s\n",
      "839:\tlearn: 0.5202445\ttotal: 2m 40s\tremaining: 30.5s\n",
      "840:\tlearn: 0.5201986\ttotal: 2m 40s\tremaining: 30.3s\n",
      "841:\tlearn: 0.5201700\ttotal: 2m 40s\tremaining: 30.1s\n",
      "842:\tlearn: 0.5201459\ttotal: 2m 40s\tremaining: 29.9s\n",
      "843:\tlearn: 0.5201190\ttotal: 2m 40s\tremaining: 29.7s\n",
      "844:\tlearn: 0.5200821\ttotal: 2m 40s\tremaining: 29.5s\n",
      "845:\tlearn: 0.5200478\ttotal: 2m 41s\tremaining: 29.3s\n",
      "846:\tlearn: 0.5200169\ttotal: 2m 41s\tremaining: 29.1s\n",
      "847:\tlearn: 0.5199846\ttotal: 2m 41s\tremaining: 28.9s\n",
      "848:\tlearn: 0.5199476\ttotal: 2m 41s\tremaining: 28.7s\n",
      "849:\tlearn: 0.5199300\ttotal: 2m 41s\tremaining: 28.6s\n",
      "850:\tlearn: 0.5199044\ttotal: 2m 41s\tremaining: 28.4s\n",
      "851:\tlearn: 0.5198709\ttotal: 2m 42s\tremaining: 28.2s\n",
      "852:\tlearn: 0.5198416\ttotal: 2m 42s\tremaining: 28s\n",
      "853:\tlearn: 0.5198101\ttotal: 2m 42s\tremaining: 27.8s\n",
      "854:\tlearn: 0.5197838\ttotal: 2m 42s\tremaining: 27.6s\n",
      "855:\tlearn: 0.5197391\ttotal: 2m 42s\tremaining: 27.4s\n",
      "856:\tlearn: 0.5197024\ttotal: 2m 43s\tremaining: 27.2s\n",
      "857:\tlearn: 0.5196719\ttotal: 2m 43s\tremaining: 27s\n",
      "858:\tlearn: 0.5196433\ttotal: 2m 43s\tremaining: 26.8s\n",
      "859:\tlearn: 0.5196095\ttotal: 2m 43s\tremaining: 26.6s\n",
      "860:\tlearn: 0.5195937\ttotal: 2m 43s\tremaining: 26.4s\n",
      "861:\tlearn: 0.5195693\ttotal: 2m 43s\tremaining: 26.2s\n",
      "862:\tlearn: 0.5195546\ttotal: 2m 44s\tremaining: 26.1s\n",
      "863:\tlearn: 0.5195294\ttotal: 2m 44s\tremaining: 25.9s\n",
      "864:\tlearn: 0.5195144\ttotal: 2m 44s\tremaining: 25.7s\n",
      "865:\tlearn: 0.5194873\ttotal: 2m 44s\tremaining: 25.5s\n",
      "866:\tlearn: 0.5194472\ttotal: 2m 44s\tremaining: 25.3s\n",
      "867:\tlearn: 0.5194199\ttotal: 2m 45s\tremaining: 25.1s\n",
      "868:\tlearn: 0.5194012\ttotal: 2m 45s\tremaining: 24.9s\n",
      "869:\tlearn: 0.5193801\ttotal: 2m 45s\tremaining: 24.7s\n",
      "870:\tlearn: 0.5193533\ttotal: 2m 45s\tremaining: 24.5s\n",
      "871:\tlearn: 0.5193357\ttotal: 2m 45s\tremaining: 24.3s\n",
      "872:\tlearn: 0.5193143\ttotal: 2m 46s\tremaining: 24.2s\n",
      "873:\tlearn: 0.5192881\ttotal: 2m 46s\tremaining: 24s\n",
      "874:\tlearn: 0.5192631\ttotal: 2m 46s\tremaining: 23.8s\n",
      "875:\tlearn: 0.5192339\ttotal: 2m 46s\tremaining: 23.6s\n",
      "876:\tlearn: 0.5191986\ttotal: 2m 46s\tremaining: 23.4s\n",
      "877:\tlearn: 0.5191751\ttotal: 2m 46s\tremaining: 23.2s\n",
      "878:\tlearn: 0.5191523\ttotal: 2m 47s\tremaining: 23s\n",
      "879:\tlearn: 0.5191086\ttotal: 2m 47s\tremaining: 22.8s\n",
      "880:\tlearn: 0.5190785\ttotal: 2m 47s\tremaining: 22.6s\n",
      "881:\tlearn: 0.5190618\ttotal: 2m 47s\tremaining: 22.4s\n",
      "882:\tlearn: 0.5190374\ttotal: 2m 47s\tremaining: 22.2s\n",
      "883:\tlearn: 0.5190100\ttotal: 2m 48s\tremaining: 22.1s\n",
      "884:\tlearn: 0.5189762\ttotal: 2m 48s\tremaining: 21.9s\n",
      "885:\tlearn: 0.5189468\ttotal: 2m 48s\tremaining: 21.7s\n",
      "886:\tlearn: 0.5189243\ttotal: 2m 48s\tremaining: 21.5s\n",
      "887:\tlearn: 0.5189020\ttotal: 2m 48s\tremaining: 21.3s\n",
      "888:\tlearn: 0.5188738\ttotal: 2m 48s\tremaining: 21.1s\n",
      "889:\tlearn: 0.5188353\ttotal: 2m 49s\tremaining: 20.9s\n",
      "890:\tlearn: 0.5188035\ttotal: 2m 49s\tremaining: 20.7s\n",
      "891:\tlearn: 0.5187656\ttotal: 2m 49s\tremaining: 20.5s\n",
      "892:\tlearn: 0.5187372\ttotal: 2m 49s\tremaining: 20.3s\n",
      "893:\tlearn: 0.5186994\ttotal: 2m 49s\tremaining: 20.1s\n",
      "894:\tlearn: 0.5186649\ttotal: 2m 50s\tremaining: 20s\n",
      "895:\tlearn: 0.5186308\ttotal: 2m 50s\tremaining: 19.8s\n",
      "896:\tlearn: 0.5185979\ttotal: 2m 50s\tremaining: 19.6s\n",
      "897:\tlearn: 0.5185730\ttotal: 2m 50s\tremaining: 19.4s\n",
      "898:\tlearn: 0.5185384\ttotal: 2m 50s\tremaining: 19.2s\n",
      "899:\tlearn: 0.5185121\ttotal: 2m 51s\tremaining: 19s\n",
      "900:\tlearn: 0.5184851\ttotal: 2m 51s\tremaining: 18.8s\n",
      "901:\tlearn: 0.5184552\ttotal: 2m 51s\tremaining: 18.6s\n",
      "902:\tlearn: 0.5184244\ttotal: 2m 51s\tremaining: 18.4s\n",
      "903:\tlearn: 0.5184063\ttotal: 2m 51s\tremaining: 18.2s\n",
      "904:\tlearn: 0.5183741\ttotal: 2m 51s\tremaining: 18.1s\n",
      "905:\tlearn: 0.5183473\ttotal: 2m 52s\tremaining: 17.9s\n",
      "906:\tlearn: 0.5183102\ttotal: 2m 52s\tremaining: 17.7s\n",
      "907:\tlearn: 0.5182877\ttotal: 2m 52s\tremaining: 17.5s\n",
      "908:\tlearn: 0.5182669\ttotal: 2m 52s\tremaining: 17.3s\n",
      "909:\tlearn: 0.5182409\ttotal: 2m 52s\tremaining: 17.1s\n",
      "910:\tlearn: 0.5182084\ttotal: 2m 53s\tremaining: 16.9s\n",
      "911:\tlearn: 0.5181704\ttotal: 2m 53s\tremaining: 16.7s\n",
      "912:\tlearn: 0.5181533\ttotal: 2m 53s\tremaining: 16.5s\n",
      "913:\tlearn: 0.5181231\ttotal: 2m 53s\tremaining: 16.3s\n",
      "914:\tlearn: 0.5180826\ttotal: 2m 53s\tremaining: 16.1s\n",
      "915:\tlearn: 0.5180500\ttotal: 2m 54s\tremaining: 16s\n",
      "916:\tlearn: 0.5180286\ttotal: 2m 54s\tremaining: 15.8s\n",
      "917:\tlearn: 0.5179988\ttotal: 2m 54s\tremaining: 15.6s\n",
      "918:\tlearn: 0.5179767\ttotal: 2m 54s\tremaining: 15.4s\n",
      "919:\tlearn: 0.5179445\ttotal: 2m 54s\tremaining: 15.2s\n",
      "920:\tlearn: 0.5179064\ttotal: 2m 54s\tremaining: 15s\n",
      "921:\tlearn: 0.5178750\ttotal: 2m 55s\tremaining: 14.8s\n",
      "922:\tlearn: 0.5178438\ttotal: 2m 55s\tremaining: 14.6s\n",
      "923:\tlearn: 0.5178202\ttotal: 2m 55s\tremaining: 14.4s\n",
      "924:\tlearn: 0.5177964\ttotal: 2m 55s\tremaining: 14.2s\n",
      "925:\tlearn: 0.5177698\ttotal: 2m 55s\tremaining: 14s\n",
      "926:\tlearn: 0.5177466\ttotal: 2m 55s\tremaining: 13.9s\n",
      "927:\tlearn: 0.5177192\ttotal: 2m 56s\tremaining: 13.7s\n",
      "928:\tlearn: 0.5176923\ttotal: 2m 56s\tremaining: 13.5s\n",
      "929:\tlearn: 0.5176628\ttotal: 2m 56s\tremaining: 13.3s\n",
      "930:\tlearn: 0.5176453\ttotal: 2m 56s\tremaining: 13.1s\n",
      "931:\tlearn: 0.5175958\ttotal: 2m 56s\tremaining: 12.9s\n",
      "932:\tlearn: 0.5175794\ttotal: 2m 56s\tremaining: 12.7s\n",
      "933:\tlearn: 0.5175479\ttotal: 2m 57s\tremaining: 12.5s\n",
      "934:\tlearn: 0.5175213\ttotal: 2m 57s\tremaining: 12.3s\n"
     ]
    },
    {
     "name": "stdout",
     "output_type": "stream",
     "text": [
      "935:\tlearn: 0.5174971\ttotal: 2m 57s\tremaining: 12.1s\n",
      "936:\tlearn: 0.5174467\ttotal: 2m 57s\tremaining: 11.9s\n",
      "937:\tlearn: 0.5174286\ttotal: 2m 57s\tremaining: 11.8s\n",
      "938:\tlearn: 0.5173983\ttotal: 2m 58s\tremaining: 11.6s\n",
      "939:\tlearn: 0.5173719\ttotal: 2m 58s\tremaining: 11.4s\n",
      "940:\tlearn: 0.5173413\ttotal: 2m 58s\tremaining: 11.2s\n",
      "941:\tlearn: 0.5173187\ttotal: 2m 58s\tremaining: 11s\n",
      "942:\tlearn: 0.5172925\ttotal: 2m 58s\tremaining: 10.8s\n",
      "943:\tlearn: 0.5172599\ttotal: 2m 59s\tremaining: 10.6s\n",
      "944:\tlearn: 0.5172317\ttotal: 2m 59s\tremaining: 10.4s\n",
      "945:\tlearn: 0.5171894\ttotal: 2m 59s\tremaining: 10.2s\n",
      "946:\tlearn: 0.5171592\ttotal: 2m 59s\tremaining: 10.1s\n",
      "947:\tlearn: 0.5171314\ttotal: 2m 59s\tremaining: 9.86s\n",
      "948:\tlearn: 0.5171025\ttotal: 2m 59s\tremaining: 9.67s\n",
      "949:\tlearn: 0.5170812\ttotal: 3m\tremaining: 9.48s\n",
      "950:\tlearn: 0.5170474\ttotal: 3m\tremaining: 9.29s\n",
      "951:\tlearn: 0.5170158\ttotal: 3m\tremaining: 9.1s\n",
      "952:\tlearn: 0.5169898\ttotal: 3m\tremaining: 8.91s\n",
      "953:\tlearn: 0.5169548\ttotal: 3m\tremaining: 8.72s\n",
      "954:\tlearn: 0.5169355\ttotal: 3m 1s\tremaining: 8.53s\n",
      "955:\tlearn: 0.5169045\ttotal: 3m 1s\tremaining: 8.34s\n",
      "956:\tlearn: 0.5168741\ttotal: 3m 1s\tremaining: 8.15s\n",
      "957:\tlearn: 0.5168553\ttotal: 3m 1s\tremaining: 7.96s\n",
      "958:\tlearn: 0.5168263\ttotal: 3m 1s\tremaining: 7.77s\n",
      "959:\tlearn: 0.5168117\ttotal: 3m 2s\tremaining: 7.58s\n",
      "960:\tlearn: 0.5167829\ttotal: 3m 2s\tremaining: 7.39s\n",
      "961:\tlearn: 0.5167519\ttotal: 3m 2s\tremaining: 7.2s\n",
      "962:\tlearn: 0.5167276\ttotal: 3m 2s\tremaining: 7.01s\n",
      "963:\tlearn: 0.5167011\ttotal: 3m 2s\tremaining: 6.82s\n",
      "964:\tlearn: 0.5166617\ttotal: 3m 2s\tremaining: 6.63s\n",
      "965:\tlearn: 0.5166371\ttotal: 3m 3s\tremaining: 6.44s\n",
      "966:\tlearn: 0.5166018\ttotal: 3m 3s\tremaining: 6.25s\n",
      "967:\tlearn: 0.5165739\ttotal: 3m 3s\tremaining: 6.06s\n",
      "968:\tlearn: 0.5165510\ttotal: 3m 3s\tremaining: 5.87s\n",
      "969:\tlearn: 0.5165153\ttotal: 3m 3s\tremaining: 5.68s\n",
      "970:\tlearn: 0.5164916\ttotal: 3m 3s\tremaining: 5.49s\n",
      "971:\tlearn: 0.5164609\ttotal: 3m 4s\tremaining: 5.3s\n",
      "972:\tlearn: 0.5164425\ttotal: 3m 4s\tremaining: 5.11s\n",
      "973:\tlearn: 0.5164169\ttotal: 3m 4s\tremaining: 4.92s\n",
      "974:\tlearn: 0.5163804\ttotal: 3m 4s\tremaining: 4.74s\n",
      "975:\tlearn: 0.5163550\ttotal: 3m 4s\tremaining: 4.55s\n",
      "976:\tlearn: 0.5163211\ttotal: 3m 5s\tremaining: 4.36s\n",
      "977:\tlearn: 0.5162926\ttotal: 3m 5s\tremaining: 4.17s\n",
      "978:\tlearn: 0.5162579\ttotal: 3m 5s\tremaining: 3.98s\n",
      "979:\tlearn: 0.5162500\ttotal: 3m 5s\tremaining: 3.79s\n",
      "980:\tlearn: 0.5162148\ttotal: 3m 5s\tremaining: 3.6s\n",
      "981:\tlearn: 0.5161887\ttotal: 3m 5s\tremaining: 3.41s\n",
      "982:\tlearn: 0.5161569\ttotal: 3m 6s\tremaining: 3.22s\n",
      "983:\tlearn: 0.5161238\ttotal: 3m 6s\tremaining: 3.03s\n",
      "984:\tlearn: 0.5161023\ttotal: 3m 6s\tremaining: 2.84s\n",
      "985:\tlearn: 0.5160715\ttotal: 3m 6s\tremaining: 2.65s\n",
      "986:\tlearn: 0.5160567\ttotal: 3m 6s\tremaining: 2.46s\n",
      "987:\tlearn: 0.5160306\ttotal: 3m 7s\tremaining: 2.27s\n",
      "988:\tlearn: 0.5160009\ttotal: 3m 7s\tremaining: 2.08s\n",
      "989:\tlearn: 0.5159705\ttotal: 3m 7s\tremaining: 1.89s\n",
      "990:\tlearn: 0.5159441\ttotal: 3m 7s\tremaining: 1.7s\n",
      "991:\tlearn: 0.5159130\ttotal: 3m 7s\tremaining: 1.51s\n",
      "992:\tlearn: 0.5158810\ttotal: 3m 7s\tremaining: 1.32s\n",
      "993:\tlearn: 0.5158644\ttotal: 3m 8s\tremaining: 1.14s\n",
      "994:\tlearn: 0.5158323\ttotal: 3m 8s\tremaining: 946ms\n",
      "995:\tlearn: 0.5158093\ttotal: 3m 8s\tremaining: 757ms\n",
      "996:\tlearn: 0.5157733\ttotal: 3m 8s\tremaining: 568ms\n",
      "997:\tlearn: 0.5157476\ttotal: 3m 8s\tremaining: 378ms\n",
      "998:\tlearn: 0.5157173\ttotal: 3m 9s\tremaining: 189ms\n",
      "999:\tlearn: 0.5157023\ttotal: 3m 9s\tremaining: 0us\n"
     ]
    },
    {
     "data": {
      "text/plain": [
       "<catboost.core.CatBoostClassifier at 0x1900335dd30>"
      ]
     },
     "execution_count": 88,
     "metadata": {},
     "output_type": "execute_result"
    }
   ],
   "source": [
    "from catboost import CatBoostClassifier\n",
    "classifier = CatBoostClassifier()\n",
    "classifier.fit(X_train, y_train)"
   ]
  },
  {
   "cell_type": "code",
   "execution_count": 89,
   "metadata": {},
   "outputs": [],
   "source": [
    "#Predicting the output on validation set\n",
    "y_pred = classifier.predict(X_valid)"
   ]
  },
  {
   "cell_type": "code",
   "execution_count": 90,
   "metadata": {},
   "outputs": [
    {
     "data": {
      "text/plain": [
       "array([0, 1, 1, ..., 0, 0, 0], dtype=int64)"
      ]
     },
     "execution_count": 90,
     "metadata": {},
     "output_type": "execute_result"
    }
   ],
   "source": [
    "y_pred"
   ]
  },
  {
   "cell_type": "markdown",
   "metadata": {},
   "source": [
    "##### Validating The meassure with roc_auc_score"
   ]
  },
  {
   "cell_type": "code",
   "execution_count": 91,
   "metadata": {},
   "outputs": [
    {
     "name": "stdout",
     "output_type": "stream",
     "text": [
      "0.7307383211853697\n"
     ]
    }
   ],
   "source": [
    "from sklearn.metrics import confusion_matrix, accuracy_score,roc_auc_score\n",
    "roc=roc_auc_score(y_valid, y_pred)\n",
    "print(roc)"
   ]
  },
  {
   "cell_type": "markdown",
   "metadata": {},
   "source": [
    "##### Feature scaling test set"
   ]
  },
  {
   "cell_type": "code",
   "execution_count": 92,
   "metadata": {},
   "outputs": [],
   "source": [
    "df1 = preprocessing.scale(df1)"
   ]
  },
  {
   "cell_type": "markdown",
   "metadata": {},
   "source": [
    "##### . Validation ROC_AUC_SCORE for this model is 0.9051696381643579"
   ]
  },
  {
   "cell_type": "code",
   "execution_count": 93,
   "metadata": {},
   "outputs": [],
   "source": [
    "submission = pd.read_csv('sample_submission_eyYijxG.csv')\n",
    "final_predictions = classifier.predict(df1)\n",
    "submission['Is_Lead'] = final_predictions\n",
    "submission.to_csv('my_submission.csv', index=False)"
   ]
  },
  {
   "cell_type": "code",
   "execution_count": null,
   "metadata": {},
   "outputs": [],
   "source": []
  }
 ],
 "metadata": {
  "kernelspec": {
   "display_name": "Python 3",
   "language": "python",
   "name": "python3"
  },
  "language_info": {
   "codemirror_mode": {
    "name": "ipython",
    "version": 3
   },
   "file_extension": ".py",
   "mimetype": "text/x-python",
   "name": "python",
   "nbconvert_exporter": "python",
   "pygments_lexer": "ipython3",
   "version": "3.8.5"
  }
 },
 "nbformat": 4,
 "nbformat_minor": 4
}
